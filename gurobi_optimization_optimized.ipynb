{
 "cells": [
  {
   "cell_type": "code",
   "execution_count": 1,
   "metadata": {},
   "outputs": [],
   "source": [
    "import gurobi as gb\n",
    "from gurobipy import GRB\n",
    "\n",
    "import networkx as nx\n",
    "import numpy as np\n",
    "import math"
   ]
  },
  {
   "cell_type": "markdown",
   "metadata": {},
   "source": [
    "# Network model"
   ]
  },
  {
   "cell_type": "code",
   "execution_count": 2,
   "metadata": {},
   "outputs": [],
   "source": [
    "from functions_library import *"
   ]
  },
  {
   "cell_type": "markdown",
   "metadata": {},
   "source": [
    "# Gurobi Optimization\n",
    "Implementation of the LP, which Arash proposed on 6. June 2022"
   ]
  },
  {
   "cell_type": "code",
   "execution_count": 3,
   "metadata": {},
   "outputs": [
    {
     "name": "stdout",
     "output_type": "stream",
     "text": [
      "Set parameter Username\n",
      "Academic license - for non-commercial use only - expires 2023-06-02\n"
     ]
    }
   ],
   "source": [
    "opt_mod = gb.Model(name=\"linear programm\")"
   ]
  },
  {
   "cell_type": "markdown",
   "metadata": {},
   "source": [
    "## Setup Network Parameters"
   ]
  },
  {
   "cell_type": "code",
   "execution_count": 4,
   "metadata": {},
   "outputs": [],
   "source": [
    "k = 3\n",
    "G = init_ring(2**k)\n",
    "D = init_uniformDemand_matrix_symmetric(G)\n",
    "#D[0][15] = 1\n",
    "#adjM = np.full((2**k,2**k),0)\n",
    "#A = nx.adjacency_matrix(G)"
   ]
  },
  {
   "cell_type": "markdown",
   "metadata": {},
   "source": [
    "## Setting variables"
   ]
  },
  {
   "cell_type": "code",
   "execution_count": 5,
   "metadata": {},
   "outputs": [],
   "source": [
    "n = len(G.nodes)\n",
    "\n",
    "allShortestPath = nx.shortest_path(G)\n",
    "\n",
    "e = opt_mod.addMVar((len(G.nodes), len(G.nodes)), name=\"e\", vtype=\"B\")\n",
    "dist = opt_mod.addMVar((len(G.nodes), len(G.nodes)), name=\"dist\", vtype=\"I\", lb=0, ub=GRB.INFINITY)\n",
    "x = opt_mod.addMVar((len(G.nodes), len(G.nodes),len(G.nodes), len(G.nodes)), name=\"x\", vtype=\"B\")\n",
    "opt_mod.update() "
   ]
  },
  {
   "cell_type": "markdown",
   "metadata": {},
   "source": [
    "## Adding constraints"
   ]
  },
  {
   "cell_type": "code",
   "execution_count": 6,
   "metadata": {},
   "outputs": [],
   "source": [
    "# Adjacency Matrix (e) Constraints\n",
    "opt_mod.addConstrs((e[i,(i+1) % len(G.nodes)] == 1 for i in G.nodes), name=\"c-ring\")\n",
    "opt_mod.addConstrs((e[i,i] == 0 for i in G.nodes), name=\"c-noSelfEdge\")\n",
    "opt_mod.addConstrs((e[i,j] == e[j,i] for i in G.nodes for j in G.nodes), name=\"c-undirected\")\n",
    "\n",
    "maxNumberE =  k+1 #math.log(n,2)-1 + 2\n",
    "opt_mod.addConstrs((e[i,:].sum() <= maxNumberE for i in G.nodes), name=\"c-logE\")\n",
    "\n",
    "\n",
    "    \n",
    "# Distance Matrix (dist) Constraints. dist[i][j]:= SP-length between i and j\n",
    "opt_mod.addConstrs((x[i,j,:,:].sum()/2==dist[i,j] for i in G.nodes for j in G.nodes), name=\"c-subpath0\")\n",
    "opt_mod.addConstrs((dist[i,j] <= dist[i,u] + dist[u,j] for i in G.nodes for j in G.nodes for u in G.nodes),\n",
    "                  name=\"c-dist2\")\n",
    "\n",
    "\n",
    "\n",
    "\n",
    "# Ensuring that x shows a correct path\n",
    "opt_mod.addConstrs((x[i,j,u,v] <= e[u,v] for i in G.nodes for j in G.nodes for u in G.nodes for v in G.nodes),\n",
    "                  name=\"flow0\")\n",
    "for i in G.nodes:\n",
    "    for j in G.nodes:\n",
    "        if i != j:\n",
    "            opt_mod.addConstr(x[i,j,i,:].sum() == 1, name=\"c-flowStart\")\n",
    "            opt_mod.addConstr(x[i,j,:,j].sum() == 1, name=\"c-flowEnd\")\n",
    "            for v in G.nodes:\n",
    "                if v not in [i,j]:\n",
    "                    opt_mod.addConstr((x[i,j,:,v].sum() - x[i,j,v,:].sum()) == 0, name=\"blue0\")"
   ]
  },
  {
   "cell_type": "markdown",
   "metadata": {},
   "source": [
    "## Objective"
   ]
  },
  {
   "cell_type": "code",
   "execution_count": 7,
   "metadata": {},
   "outputs": [
    {
     "name": "stdout",
     "output_type": "stream",
     "text": [
      "Gurobi Optimizer version 9.5.1 build v9.5.1rc2 (linux64)\n",
      "Thread count: 6 physical cores, 12 logical processors, using up to 12 threads\n",
      "Optimize a model with 5208 rows, 4224 columns and 19440 nonzeros\n",
      "Model fingerprint: 0x8062b5cc\n",
      "Variable types: 0 continuous, 4224 integer (4160 binary)\n",
      "Coefficient statistics:\n",
      "  Matrix range     [5e-01, 1e+00]\n",
      "  Objective range  [1e-01, 1e-01]\n",
      "  Bounds range     [1e+00, 1e+00]\n",
      "  RHS range        [1e+00, 4e+00]\n",
      "Presolve removed 1736 rows and 676 columns\n",
      "Presolve time: 0.02s\n",
      "Presolved: 3472 rows, 3548 columns, 14960 nonzeros\n",
      "Variable types: 0 continuous, 3548 integer (3476 binary)\n",
      "\n",
      "Root relaxation: objective 4.000000e+00, 374 iterations, 0.00 seconds (0.00 work units)\n",
      "\n",
      "    Nodes    |    Current Node    |     Objective Bounds      |     Work\n",
      " Expl Unexpl |  Obj  Depth IntInf | Incumbent    BestBd   Gap | It/Node Time\n",
      "\n",
      "H    0     0                       3.9999999    4.00000  0.00%     -    0s\n",
      "     0     0    4.00000    0  160    4.00000    4.00000  0.00%     -    0s\n",
      "\n",
      "Explored 1 nodes (374 simplex iterations) in 0.05 seconds (0.05 work units)\n",
      "Thread count was 12 (of 12 available processors)\n",
      "\n",
      "Solution count 1: 4 \n",
      "\n",
      "Optimal solution found (tolerance 1.00e-04)\n",
      "Best objective 3.999999920000e+00, best bound 3.999999920000e+00, gap 0.0000%\n"
     ]
    }
   ],
   "source": [
    "#print(len(x[0,1,x,y]))\n",
    "nodesPairListNoDuplication = complete_node_pair_list_noDuplication(G)\n",
    "opt_mod.setObjective(sum([dist[i,j]*D[i][j] for (i,j) in nodesPairListNoDuplication]), GRB.MINIMIZE)\n",
    "opt_mod.update()\n",
    "\n",
    "\n",
    "# Run\n",
    "#opt_mod.display()\n",
    "opt_mod.optimize()"
   ]
  },
  {
   "cell_type": "code",
   "execution_count": 8,
   "metadata": {},
   "outputs": [
    {
     "data": {
      "text/plain": [
       "\"if opt_mod.status == GRB.Status.OPTIMAL:\\n    print('Obj Function:', opt_mod.objVal)\\n    for v in opt_mod.getVars():\\n        print(v.varName, v.x)       \\nelse:\\n    print(opt_mod.status)\""
      ]
     },
     "execution_count": 8,
     "metadata": {},
     "output_type": "execute_result"
    }
   ],
   "source": [
    "\"\"\"if opt_mod.status == GRB.Status.OPTIMAL:\n",
    "    print('Obj Function:', opt_mod.objVal)\n",
    "    for v in opt_mod.getVars():\n",
    "        print(v.varName, v.x)       \n",
    "else:\n",
    "    print(opt_mod.status)\"\"\""
   ]
  },
  {
   "cell_type": "markdown",
   "metadata": {},
   "source": [
    "# Putting it back into a graph"
   ]
  },
  {
   "cell_type": "code",
   "execution_count": 9,
   "metadata": {},
   "outputs": [],
   "source": [
    "G_sol = nx.Graph()\n",
    "for i in range(n): \n",
    "    G_sol.add_node(i)\n",
    "\n",
    "for i in G_sol.nodes:\n",
    "    for j in range(i+1,len(G_sol.nodes)):\n",
    "        if e[i,j].X == 1.0:\n",
    "            G_sol.add_edge(i,j)\n"
   ]
  },
  {
   "cell_type": "code",
   "execution_count": 10,
   "metadata": {},
   "outputs": [
    {
     "data": {
      "image/png": "[encoded data removed]",
      "text/plain": [
       "<Figure size 432x288 with 1 Axes>"
      ]
     },
     "metadata": {},
     "output_type": "display_data"
    }
   ],
   "source": [
    "pos = nx.circular_layout(G_sol)\n",
    "nx.draw_networkx(G_sol,pos=pos,with_labels=True)"
   ]
  },
  {
   "cell_type": "code",
   "execution_count": 11,
   "metadata": {},
   "outputs": [],
   "source": [
    "#print(sum([x[i,j,:,:].sum()*D[i][j] for (i,j) in complete_node_pair_list0]))"
   ]
  },
  {
   "cell_type": "code",
   "execution_count": 12,
   "metadata": {
    "scrolled": true
   },
   "outputs": [
    {
     "name": "stdout",
     "output_type": "stream",
     "text": [
      "11.428571200000006\n"
     ]
    }
   ],
   "source": [
    "print(calc_cost(G_sol,D))"
   ]
  },
  {
   "cell_type": "code",
   "execution_count": 9,
   "metadata": {},
   "outputs": [],
   "source": [
    "def gurobi_optimal(G,D):\n",
    "    n = len(G.nodes)\n",
    "    e = opt_mod.addMVar((len(G.nodes), len(G.nodes)), name=\"e\", vtype=\"B\")\n",
    "    dist = opt_mod.addMVar((len(G.nodes), len(G.nodes)), name=\"dist\", vtype=\"I\", lb=0, ub=GRB.INFINITY)\n",
    "    x = opt_mod.addMVar((len(G.nodes), len(G.nodes),len(G.nodes), len(G.nodes)), name=\"x\", vtype=\"B\")\n",
    "    opt_mod.update()\n",
    "    # Adjacency Matrix (e) Constraints\n",
    "    opt_mod.addConstrs((e[i,(i+1) % len(G.nodes)] == 1 for i in G.nodes), name=\"c-ring\")\n",
    "    opt_mod.addConstrs((e[i,i] == 0 for i in G.nodes), name=\"c-noSelfEdge\")\n",
    "    opt_mod.addConstrs((e[i,j] == e[j,i] for i in G.nodes for j in G.nodes), name=\"c-undirected\")\n",
    "\n",
    "    maxNumberE =  k+1 #math.log(n,2)-1 + 2\n",
    "    opt_mod.addConstrs((e[i,:].sum() <= maxNumberE for i in G.nodes), name=\"c-logE\")\n",
    "\n",
    "\n",
    "        \n",
    "    # Distance Matrix (dist) Constraints. dist[i][j]:= SP-length between i and j\n",
    "    opt_mod.addConstrs((x[i,j,:,:].sum()/2==dist[i,j] for i in G.nodes for j in G.nodes), name=\"c-subpath0\")\n",
    "    opt_mod.addConstrs((dist[i,j] <= dist[i,u] + dist[u,j] for i in G.nodes for j in G.nodes for u in G.nodes),\n",
    "                      name=\"c-dist2\")\n",
    "\n",
    "\n",
    "\n",
    "\n",
    "    # Ensuring that x shows a correct path\n",
    "    opt_mod.addConstrs((x[i,j,u,v] <= e[u,v] for i in G.nodes for j in G.nodes for u in G.nodes for v in G.nodes),\n",
    "                      name=\"flow0\")\n",
    "    for i in G.nodes:\n",
    "        for j in G.nodes:\n",
    "            if i != j:\n",
    "                opt_mod.addConstr(x[i,j,i,:].sum() == 1, name=\"c-flowStart\")\n",
    "                opt_mod.addConstr(x[i,j,:,j].sum() == 1, name=\"c-flowEnd\")\n",
    "                for v in G.nodes:\n",
    "                    if v not in [i,j]:\n",
    "                        opt_mod.addConstr((x[i,j,:,v].sum() - x[i,j,v,:].sum()) == 0, name=\"blue0\")\n",
    "\n",
    "    #Optimization\n",
    "    nodesPairListNoDuplication = complete_node_pair_list_noDuplication(G)\n",
    "    opt_mod.setObjective(sum([dist[i,j]*D[i][j] for (i,j) in nodesPairListNoDuplication]), GRB.MINIMIZE)\n",
    "    opt_mod.update()\n",
    "    opt_mod.optimize()\n",
    "\n",
    "    # Getting result\n",
    "    G_sol = nx.Graph()\n",
    "    for i in range(n): \n",
    "        G_sol.add_node(i)\n",
    "\n",
    "    for i in G_sol.nodes:\n",
    "        for j in range(i+1,len(G_sol.nodes)):\n",
    "            if e[i,j].X == 1.0:\n",
    "                G_sol.add_edge(i,j)\n",
    "    return G_sol"
   ]
  },
  {
   "cell_type": "code",
   "execution_count": 13,
   "metadata": {},
   "outputs": [
    {
     "name": "stdout",
     "output_type": "stream",
     "text": [
      "Gurobi Optimizer version 9.5.1 build v9.5.1rc2 (linux64)\n",
      "Thread count: 6 physical cores, 12 logical processors, using up to 12 threads\n",
      "Optimize a model with 12476 rows, 9888 columns and 44920 nonzeros\n",
      "Model fingerprint: 0x57909914\n",
      "Variable types: 0 continuous, 9888 integer (9680 binary)\n",
      "Coefficient statistics:\n",
      "  Matrix range     [5e-01, 1e+00]\n",
      "  Objective range  [3e-01, 3e-01]\n",
      "  Bounds range     [1e+00, 1e+00]\n",
      "  RHS range        [1e+00, 4e+00]\n",
      "\n",
      "MIP start from previous solve produced solution with objective 2 (0.01s)\n",
      "Loaded MIP start from previous solve with objective 2\n",
      "\n",
      "Presolve removed 9004 rows and 6340 columns\n",
      "Presolve time: 0.07s\n",
      "Presolved: 3472 rows, 3548 columns, 14960 nonzeros\n",
      "Variable types: 0 continuous, 3548 integer (3476 binary)\n",
      "\n",
      "Explored 0 nodes (0 simplex iterations) in 0.09 seconds (0.11 work units)\n",
      "Thread count was 12 (of 12 available processors)\n",
      "\n",
      "Solution count 1: 2 \n",
      "\n",
      "Optimal solution found (tolerance 1.00e-04)\n",
      "Best objective 1.999999980000e+00, best bound 1.999999980000e+00, gap 0.0000%\n",
      "Gurobi Optimizer version 9.5.1 build v9.5.1rc2 (linux64)\n",
      "Thread count: 6 physical cores, 12 logical processors, using up to 12 threads\n",
      "Optimize a model with 17684 rows, 14112 columns and 64360 nonzeros\n",
      "Model fingerprint: 0x09f10008\n",
      "Variable types: 0 continuous, 14112 integer (13840 binary)\n",
      "Coefficient statistics:\n",
      "  Matrix range     [5e-01, 1e+00]\n",
      "  Objective range  [1e-01, 1e-01]\n",
      "  Bounds range     [1e+00, 1e+00]\n",
      "  RHS range        [1e+00, 4e+00]\n",
      "\n",
      "MIP start from previous solve produced solution with objective 4 (0.05s)\n",
      "Loaded MIP start from previous solve with objective 4\n",
      "\n",
      "Presolve removed 14212 rows and 10564 columns\n",
      "Presolve time: 0.11s\n",
      "Presolved: 3472 rows, 3548 columns, 14960 nonzeros\n",
      "Variable types: 0 continuous, 3548 integer (3476 binary)\n",
      "\n",
      "Explored 0 nodes (0 simplex iterations) in 0.16 seconds (0.21 work units)\n",
      "Thread count was 12 (of 12 available processors)\n",
      "\n",
      "Solution count 1: 4 \n",
      "\n",
      "Optimal solution found (tolerance 1.00e-04)\n",
      "Best objective 3.999999920000e+00, best bound 3.999999920000e+00, gap 0.0000%\n"
     ]
    }
   ],
   "source": [
    "for k in range(2,4):\n",
    "\tG = init_ring(2**k)\n",
    "\tD = init_uniformDemand_matrix_symmetric(G)\n",
    "\n",
    "\tG_sol = gurobi_optimal(G,D)\n",
    "\n",
    "\tsolution = calc_cost(G_sol,D)\n",
    "\n",
    "\tf = open(\"output.txt\", \"a\")\n",
    "\tf.write(str(k) + \",\" + str(solution)+ \"\\n\")\n",
    "\tf.close()"
   ]
  },
  {
   "cell_type": "code",
   "execution_count": null,
   "metadata": {},
   "outputs": [],
   "source": []
  }
 ],
 "metadata": {
  "interpreter": {
   "hash": "916dbcbb3f70747c44a77c7bcd40155683ae19c65e1c03b4aa3499c5328201f1"
  },
  "kernelspec": {
   "display_name": "Python 3 (ipykernel)",
   "language": "python",
   "name": "python3"
  },
  "language_info": {
   "codemirror_mode": {
    "name": "ipython",
    "version": 3
   },
   "file_extension": ".py",
   "mimetype": "text/x-python",
   "name": "python",
   "nbconvert_exporter": "python",
   "pygments_lexer": "ipython3",
   "version": "3.9.12"
  }
 },
 "nbformat": 4,
 "nbformat_minor": 2
}

{
 "cells": [
  {
   "cell_type": "code",
   "execution_count": 1,
   "metadata": {},
   "outputs": [],
   "source": [
    "import gurobi as gb\n",
    "from gurobipy import GRB\n",
    "\n",
    "import networkx as nx\n",
    "import numpy as np\n",
    "import math"
   ]
  },
  {
   "cell_type": "markdown",
   "metadata": {},
   "source": [
    "# Network model"
   ]
  },
  {
   "cell_type": "code",
   "execution_count": 2,
   "metadata": {},
   "outputs": [],
   "source": [
    "from functions_library import *"
   ]
  },
  {
   "cell_type": "markdown",
   "metadata": {},
   "source": [
    "# Gurobi Optimization\n",
    "Implementation of the LP, which Arash proposed on 6. June 2022"
   ]
  },
  {
   "cell_type": "code",
   "execution_count": 3,
   "metadata": {},
   "outputs": [
    {
     "name": "stdout",
     "output_type": "stream",
     "text": [
      "Set parameter Username\n",
      "Academic license - for non-commercial use only - expires 2023-06-02\n"
     ]
    }
   ],
   "source": [
    "opt_mod = gb.Model(name=\"linear programm\")"
   ]
  },
  {
   "cell_type": "markdown",
   "metadata": {},
   "source": [
    "## Setup Network Parameters"
   ]
  },
  {
   "cell_type": "code",
   "execution_count": 4,
   "metadata": {},
   "outputs": [
    {
     "data": {
      "image/png": "[encoded data removed]",
      "text/plain": [
       "<Figure size 432x288 with 1 Axes>"
      ]
     },
     "metadata": {},
     "output_type": "display_data"
    }
   ],
   "source": [
    "k = 5\n",
    "G = init_ring(2**k)\n",
    "D = init_uniformDemand_matrix(G)\n",
    "#adjM = np.full((2**k,2**k),0)\n",
    "#A = nx.adjacency_matrix(G)"
   ]
  },
  {
   "cell_type": "markdown",
   "metadata": {},
   "source": [
    "## Setting variables"
   ]
  },
  {
   "cell_type": "code",
   "execution_count": 5,
   "metadata": {},
   "outputs": [],
   "source": [
    "n = len(G.nodes)\n",
    "\n",
    "nodesPairList = gb.tuplelist(complete_node_pair_list(G))\n",
    "allShortestPath = nx.shortest_path(G)\n",
    "\n",
    "# Edges/Links gb.var definition and constraints\n",
    "\"\"\"e = []\n",
    "for i in G.nodes:\n",
    "    e.append([])\n",
    "    for j in G.nodes:\n",
    "        e[i].append(opt_mod.addVar(name=f\"e_{i,j}\", vtype=GRB.BINARY))\n",
    "opt_mod.update() \"\"\"\n",
    "\n",
    "\"\"\"#distance, x, y, flow\n",
    "dist = []\n",
    "x = []\n",
    "for i in G.nodes:\n",
    "    dist.append([])\n",
    "    x.append([])\n",
    "    for j in G.nodes:\n",
    "        dist[i].append(opt_mod.addVar(name=f\"dist_{i,j}\", vtype=\"I\", lb=0, ub=GRB.INFINITY))\n",
    "        x[i].append([])\n",
    "        for u in G.nodes:\n",
    "            x[i][j].append([])\n",
    "            for v in G.nodes:\n",
    "                x[i][j][u].append(opt_mod.addVar(name=f\"x_{i,j}_{u,v}\", vtype=\"B\"))  \n",
    "x = np.array(x)\n",
    "opt_mod.update() \"\"\"\n",
    "\n",
    "#Optimized Gurobi arrays\n",
    "e = opt_mod.addVars(G.nodes, G.nodes, name=\"e\", vtype=\"B\")\n",
    "opt_mod.update() \n",
    "dist = opt_mod.addVars(G.nodes, G.nodes, name=\"dist\", vtype=\"I\", lb=0, ub=GRB.INFINITY)\n",
    "opt_mod.update() \n",
    "x = opt_mod.addVars(G.nodes, G.nodes, G.nodes, G.nodes, name=\"x\", vtype=\"B\")\n",
    "opt_mod.update() "
   ]
  },
  {
   "cell_type": "markdown",
   "metadata": {},
   "source": [
    "## Adding constraints"
   ]
  },
  {
   "cell_type": "code",
   "execution_count": 6,
   "metadata": {},
   "outputs": [],
   "source": [
    "# Adjacency Matrix (e) Constraints\n",
    "opt_mod.addConstrs((e[i,(i+1) % len(G.nodes)] == 1 for i in G.nodes), name=\"c-ring\")\n",
    "opt_mod.addConstrs((e[i,i] == 0 for i in G.nodes), name=\"c-noSelfEdge\")\n",
    "opt_mod.addConstrs((e.sum(i,'*') <= math.log(2**k,2) + 2 for i in G.nodes), name=\"c-logE\")\n",
    "opt_mod.addConstrs((e[i,j] == e[j,i] for i in G.nodes for j in G.nodes), name=\"c-undirected\")\n",
    "        \n",
    "        \n",
    "# Distance Matrix (dist) Constraints. dist[i][j]:= SP-length between i and j\n",
    "for i in G.nodes:\n",
    "    #opt_mod.addConstr(dist[i,i] == 0, name=\"c-dist-self\")\n",
    "    #opt_mod.addConstr(dist[i][(i+1) % len(G.nodes)] == 1, name=\"c-dist-ring\")\n",
    "    for j in G.nodes:\n",
    "        opt_mod.addConstr(dist[i,j] == (x.sum(i,j,'*','*')/2), name=\"c-subpath0\")\n",
    "        #opt_mod.addConstr(dist[i,j] >= e[i,j], name=\"c-dist1\")\n",
    "        for u in G.nodes:\n",
    "            opt_mod.addConstr(dist[i,j] <= dist[i,u] + dist[u,j] , name=\"c-dist2\")\n",
    "\n",
    "\n",
    "\n",
    "# Ensuring that x shows a correct path\n",
    "for i in G.nodes:\n",
    "    for j in G.nodes:\n",
    "        opt_mod.addConstr(x[i,j,i,i] == 0, name=\"c-noSelfE\")\n",
    "        if i != j:\n",
    "            opt_mod.addConstr(x.sum(i,j,i,'*') == 1, name=\"c-flowStart\")\n",
    "            opt_mod.addConstr(x.sum(i,j,'*',j) == 1, name=\"c-flowEnd\")\n",
    "            for v in G.nodes:\n",
    "                if v != j:\n",
    "                    opt_mod.addConstr((x.sum(i,j,'*',v) - x.sum(i,j,v,'*')) == 0, name=\"blue0\")\n",
    "                for u in G.nodes:   \n",
    "                    opt_mod.addConstr(x[i,j,u,v] <= e[u,v], name=\"flow0\")"
   ]
  },
  {
   "cell_type": "code",
   "execution_count": 7,
   "metadata": {},
   "outputs": [],
   "source": [
    "#opt_mod.addConstr(sum(x[i][j][i]) == 1, name=\"flow0\")\n",
    "#opt_mod.addConstr(sum(x[i][j][i]) == 1, name=\"flow0\")"
   ]
  },
  {
   "cell_type": "markdown",
   "metadata": {},
   "source": [
    "## Objective"
   ]
  },
  {
   "cell_type": "code",
   "execution_count": null,
   "metadata": {},
   "outputs": [
    {
     "name": "stdout",
     "output_type": "stream",
     "text": [
      "Gurobi Optimizer version 9.5.1 build v9.5.1rc2 (linux64)\n",
      "Thread count: 6 physical cores, 12 logical processors, using up to 12 threads\n",
      "Optimize a model with 1084480 rows, 1050624 columns and 5149696 nonzeros\n",
      "Model fingerprint: 0xfdd170aa\n",
      "Variable types: 0 continuous, 1050624 integer (1049600 binary)\n",
      "Coefficient statistics:\n",
      "  Matrix range     [5e-01, 1e+00]\n",
      "  Objective range  [1e-03, 1e-03]\n",
      "  Bounds range     [1e+00, 1e+00]\n",
      "  RHS range        [1e+00, 7e+00]\n",
      "Presolve removed 99360 rows and 65104 columns (presolve time = 5s) ...\n",
      "Presolve removed 100384 rows and 65168 columns (presolve time = 10s) ...\n"
     ]
    }
   ],
   "source": [
    "#print(len(x[0,1,x,y]))\n",
    "nodesPairListNoDuplication = complete_node_pair_list_noDuplication(G)\n",
    "opt_mod.setObjective(sum([dist[i,j]*D[i][j] for (i,j) in nodesPairListNoDuplication]), GRB.MINIMIZE)\n",
    "opt_mod.update()\n",
    "\n",
    "\n",
    "# Run\n",
    "#opt_mod.display()\n",
    "opt_mod.optimize()"
   ]
  },
  {
   "cell_type": "code",
   "execution_count": null,
   "metadata": {},
   "outputs": [],
   "source": [
    "\"\"\"if opt_mod.status == GRB.Status.OPTIMAL:\n",
    "    print('Obj Function:', opt_mod.objVal)\n",
    "    for v in opt_mod.getVars():\n",
    "        print(v.varName, v.x)       \n",
    "else:\n",
    "    print(opt_mod.status)\"\"\""
   ]
  },
  {
   "cell_type": "markdown",
   "metadata": {},
   "source": [
    "# Putting it back into a graph"
   ]
  },
  {
   "cell_type": "code",
   "execution_count": null,
   "metadata": {},
   "outputs": [],
   "source": [
    "G_sol = nx.Graph()\n",
    "for i in range(n): \n",
    "    G_sol.add_node(i)\n",
    "\n",
    "for i in G_sol.nodes:\n",
    "    for j in range(i,len(G_sol.nodes)):\n",
    "        if e[i,j].X == 1.0:\n",
    "            G_sol.add_edge(i,j)\n"
   ]
  },
  {
   "cell_type": "code",
   "execution_count": null,
   "metadata": {},
   "outputs": [],
   "source": [
    "pos = nx.circular_layout(G_sol)\n",
    "nx.draw_networkx(G_sol,pos=pos,with_labels=True)"
   ]
  },
  {
   "cell_type": "code",
   "execution_count": null,
   "metadata": {},
   "outputs": [],
   "source": [
    "print(calc_cost(G_sol,D))\n",
    "print(dist)"
   ]
  },
  {
   "cell_type": "code",
   "execution_count": null,
   "metadata": {},
   "outputs": [],
   "source": []
  },
  {
   "cell_type": "code",
   "execution_count": null,
   "metadata": {},
   "outputs": [],
   "source": []
  },
  {
   "cell_type": "code",
   "execution_count": null,
   "metadata": {},
   "outputs": [],
   "source": []
  },
  {
   "cell_type": "code",
   "execution_count": null,
   "metadata": {},
   "outputs": [],
   "source": []
  },
  {
   "cell_type": "code",
   "execution_count": null,
   "metadata": {},
   "outputs": [],
   "source": []
  },
  {
   "cell_type": "code",
   "execution_count": null,
   "metadata": {},
   "outputs": [],
   "source": []
  },
  {
   "cell_type": "code",
   "execution_count": null,
   "metadata": {},
   "outputs": [],
   "source": []
  },
  {
   "cell_type": "code",
   "execution_count": null,
   "metadata": {},
   "outputs": [],
   "source": []
  },
  {
   "cell_type": "code",
   "execution_count": null,
   "metadata": {},
   "outputs": [],
   "source": []
  },
  {
   "cell_type": "code",
   "execution_count": null,
   "metadata": {},
   "outputs": [],
   "source": []
  }
 ],
 "metadata": {
  "interpreter": {
   "hash": "916dbcbb3f70747c44a77c7bcd40155683ae19c65e1c03b4aa3499c5328201f1"
  },
  "kernelspec": {
   "display_name": "Python 3 (ipykernel)",
   "language": "python",
   "name": "python3"
  },
  "language_info": {
   "codemirror_mode": {
    "name": "ipython",
    "version": 3
   },
   "file_extension": ".py",
   "mimetype": "text/x-python",
   "name": "python",
   "nbconvert_exporter": "python",
   "pygments_lexer": "ipython3",
   "version": "3.9.12"
  }
 },
 "nbformat": 4,
 "nbformat_minor": 2
}

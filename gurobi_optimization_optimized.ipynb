{
 "cells": [
  {
   "cell_type": "code",
   "execution_count": 1,
   "metadata": {},
   "outputs": [],
   "source": [
    "import gurobi as gb\n",
    "from gurobipy import GRB\n",
    "\n",
    "import networkx as nx\n",
    "import numpy as np\n",
    "import math"
   ]
  },
  {
   "cell_type": "markdown",
   "metadata": {},
   "source": [
    "# Network model"
   ]
  },
  {
   "cell_type": "code",
   "execution_count": 2,
   "metadata": {},
   "outputs": [],
   "source": [
    "from functions_library import *"
   ]
  },
  {
   "cell_type": "markdown",
   "metadata": {},
   "source": [
    "# Gurobi Optimization\n",
    "Implementation of the LP, which Arash proposed on 6. June 2022"
   ]
  },
  {
   "cell_type": "code",
   "execution_count": 3,
   "metadata": {},
   "outputs": [
    {
     "name": "stdout",
     "output_type": "stream",
     "text": [
      "Set parameter Username\n",
      "Academic license - for non-commercial use only - expires 2023-06-02\n"
     ]
    }
   ],
   "source": [
    "opt_mod = gb.Model(name=\"linear programm\")\n",
    "\n",
    "#opt_mod.setParam(\"IterationLimit\",400000)\n",
    "#opt_mod.setParam(\"DegenMoves\",0);\n",
    "\n",
    "#opt_mod.setParam(\"MIPFocus\",2);"
   ]
  },
  {
   "cell_type": "markdown",
   "metadata": {},
   "source": [
    "## Setup Network Parameters"
   ]
  },
  {
   "cell_type": "code",
   "execution_count": 4,
   "metadata": {},
   "outputs": [],
   "source": [
    "k = 5\n",
    "G = init_ring(2**k)\n",
    "D = init_uniformDemand_matrix_symmetric(G)\n",
    "#D[0][15] = 1\n",
    "#adjM = np.full((2**k,2**k),0)\n",
    "#A = nx.adjacency_matrix(G)"
   ]
  },
  {
   "cell_type": "markdown",
   "metadata": {},
   "source": [
    "## Setting variables"
   ]
  },
  {
   "cell_type": "code",
   "execution_count": 5,
   "metadata": {},
   "outputs": [],
   "source": [
    "n = 2**k\n",
    "\n",
    "#allShortestPath = nx.shortest_path(G)\n",
    "\n",
    "e = opt_mod.addMVar((n, n), name=\"e\", vtype=\"I\", lb=0, ub=1)\n",
    "#dist = opt_mod.addMVar((len(G.nodes), len(G.nodes)), name=\"dist\", vtype=\"I\", lb=0, ub=GRB.INFINITY)\n",
    "x = opt_mod.addMVar((n,n,n,n), name=\"x\", vtype=\"C\", lb=0, ub=1)\n",
    "opt_mod.update() "
   ]
  },
  {
   "cell_type": "markdown",
   "metadata": {},
   "source": [
    "## Adding constraints"
   ]
  },
  {
   "cell_type": "code",
   "execution_count": 6,
   "metadata": {},
   "outputs": [],
   "source": [
    "# Adjacency Matrix (e) Constraints\n",
    "opt_mod.addConstrs((e[i,(i+1) % n] == 1 for i in range(n)), name=\"c-ring\")\n",
    "opt_mod.addConstrs((e[i,i] == 0 for i in range(n)), name=\"c-noSelfEdge\")\n",
    "opt_mod.addConstrs((e[i,j] == e[j,i] for i in G.nodes for j in range(n)), name=\"c-undirected\")\n",
    "\n",
    "maxNumberE =  k+1 #math.log(n,2)-1 + 2\n",
    "opt_mod.addConstrs((gb.quicksum(e[i,:]) <= maxNumberE for i in range(n)), name=\"c-logE\")\n",
    "\n",
    "\n",
    "    \n",
    "# Distance Matrix (dist) Constraints. dist[i][j]:= SP-length between i and j\n",
    "#opt_mod.addConstrs((x[i,j,:,:].sum()/2==dist[i,j] for i in G.nodes for j in G.nodes), name=\"c-subpath0\")\n",
    "#opt_mod.addConstrs((dist[i,j] <= dist[i,u] + dist[u,j] for i in G.nodes for j in G.nodes for u in G.nodes),\n",
    "#                  name=\"c-dist2\")\n",
    "\n",
    "\n",
    "\n",
    "\n",
    "# Ensuring that x shows a correct path\n",
    "opt_mod.addConstrs((x[i,j,u,v] <= e[u,v] for i in range(n) for j in range(n) for u in range(n) for v in range(n)),\n",
    "                  name=\"flow0\")\n",
    "for i in G.nodes:\n",
    "    for j in G.nodes:\n",
    "        if i != j:\n",
    "            opt_mod.addConstr(gb.quicksum(x[i,j,i,:]) == 1, name=\"c-flowStart\")\n",
    "            opt_mod.addConstr(gb.quicksum(x[i,j,:,j]) == 1, name=\"c-flowEnd\")\n",
    "            for v in G.nodes:\n",
    "                if v not in [i,j]:\n",
    "                    opt_mod.addConstr((gb.quicksum(x[i,j,:,v]) - gb.quicksum(x[i,j,v,:])) == 0, name=\"blue0\")"
   ]
  },
  {
   "cell_type": "markdown",
   "metadata": {},
   "source": [
    "## Objective"
   ]
  },
  {
   "cell_type": "code",
   "execution_count": null,
   "metadata": {},
   "outputs": [
    {
     "name": "stdout",
     "output_type": "stream",
     "text": [
      "Gurobi Optimizer version 9.5.1 build v9.5.1rc2 (linux64)\n",
      "Thread count: 6 physical cores, 12 logical processors, using up to 12 threads\n",
      "Optimize a model with 1081440 rows, 1049600 columns and 4008832 nonzeros\n",
      "Model fingerprint: 0xcc59d25c\n",
      "Variable types: 1048576 continuous, 1024 integer (0 binary)\n",
      "Coefficient statistics:\n",
      "  Matrix range     [1e+00, 1e+00]\n",
      "  Objective range  [3e-02, 3e-02]\n",
      "  Bounds range     [1e+00, 1e+00]\n",
      "  RHS range        [1e+00, 6e+00]\n",
      "Presolve removed 130016 rows and 80016 columns (presolve time = 5s) ...\n",
      "Presolve removed 130016 rows and 80016 columns (presolve time = 10s) ...\n",
      "Presolve removed 130016 rows and 80016 columns (presolve time = 15s) ...\n",
      "Presolve removed 130016 rows and 80016 columns (presolve time = 20s) ...\n",
      "Presolve removed 130016 rows and 80016 columns\n",
      "Presolve time: 20.38s\n",
      "Presolved: 951424 rows, 969584 columns, 3718976 nonzeros\n",
      "Variable types: 969120 continuous, 464 integer (464 binary)\n",
      "Found heuristic solution: objective 48.2903158\n",
      "\n",
      "Deterministic concurrent LP optimizer: primal simplex, dual simplex, and barrier\n",
      "Showing barrier log only...\n",
      "\n",
      "Root barrier log...\n",
      "\n",
      "Ordering time: 0.58s\n",
      "\n",
      "Barrier statistics:\n",
      " Dense cols : 464\n",
      " AA' NZ     : 3.196e+06\n",
      " Factor NZ  : 1.898e+07 (roughly 1.0 GB of memory)\n",
      " Factor Ops : 7.380e+09 (less than 1 second per iteration)\n",
      " Threads    : 4\n",
      "\n",
      "                  Objective                Residual\n",
      "Iter       Primal          Dual         Primal    Dual     Compl     Time\n",
      "   0   3.19884144e+05 -8.48464010e+04  6.31e+02 6.94e-18  2.02e+00    47s\n",
      "   1   9.59685371e+04 -8.17423031e+04  3.37e+02 2.05e-02  8.06e-01    49s\n",
      "   2   2.61875955e+04 -7.47866405e+04  9.52e+01 4.71e-13  2.40e-01    51s\n",
      "   3   2.15530966e+03 -5.38185355e+04  6.77e-01 8.76e-09  2.07e-02    52s\n",
      "   4   8.62245315e+02 -3.09701149e+03  3.27e-03 2.64e-09  1.39e-03    55s\n",
      "   5   8.80325915e+01 -1.33632252e+02  1.23e-05 1.82e-11  7.75e-05    57s\n",
      "   6   3.03579287e+01  2.39003681e+01  1.68e-07 3.96e-13  2.26e-06    59s\n",
      "   7   2.89037134e+01  2.89008899e+01  2.24e-11 5.90e-16  9.88e-10    61s\n",
      "   8   2.89032218e+01  2.89032218e+01  6.00e-15 1.74e-15  9.90e-16    62s\n",
      "\n",
      "Barrier solved model in 8 iterations and 62.32 seconds (21.25 work units)\n",
      "Optimal objective 2.89032218e+01\n",
      "\n",
      "\n",
      "Root crossover log...\n",
      "\n",
      "    1488 DPushes remaining with DInf 0.0000000e+00                65s\n",
      "       0 DPushes remaining with DInf 0.0000000e+00                66s\n",
      "\n",
      "  475600 PPushes remaining with PInf 0.0000000e+00                67s\n",
      "  239367 PPushes remaining with PInf 0.0000000e+00                71s\n",
      "  163887 PPushes remaining with PInf 0.0000000e+00                75s\n",
      "  113900 PPushes remaining with PInf 0.0000000e+00                80s\n",
      "   76452 PPushes remaining with PInf 0.0000000e+00                86s\n",
      "   46390 PPushes remaining with PInf 0.0000000e+00                91s\n",
      "   29082 PPushes remaining with PInf 0.0000000e+00                95s\n",
      "    4849 PPushes remaining with PInf 0.0000000e+00               101s\n"
     ]
    }
   ],
   "source": [
    "#print(len(x[0,1,x,y]))\n",
    "nodesPairListNoDuplication = complete_node_pair_list_noDuplication(G)\n",
    "opt_mod.setObjective(gb.quicksum([x[i,j,:,:].sum()*D[i][j] for (i,j) in nodesPairListNoDuplication]), GRB.MINIMIZE)\n",
    "opt_mod.update()\n",
    "\n",
    "\n",
    "# Run\n",
    "#opt_mod.display()\n",
    "opt_mod.optimize()"
   ]
  },
  {
   "cell_type": "code",
   "execution_count": null,
   "metadata": {},
   "outputs": [],
   "source": [
    "\"\"\"if opt_mod.status == GRB.Status.OPTIMAL:\n",
    "    print('Obj Function:', opt_mod.objVal)\n",
    "    for v in opt_mod.getVars():\n",
    "        print(v.varName, v.x)       \n",
    "else:\n",
    "    print(opt_mod.status)\"\"\""
   ]
  },
  {
   "cell_type": "markdown",
   "metadata": {},
   "source": [
    "# Putting it back into a graph"
   ]
  },
  {
   "cell_type": "code",
   "execution_count": null,
   "metadata": {},
   "outputs": [],
   "source": [
    "G_sol = nx.Graph()\n",
    "for i in range(n): \n",
    "    G_sol.add_node(i)\n",
    "\n",
    "for i in G_sol.nodes:\n",
    "    for j in range(i+1,len(G_sol.nodes)):\n",
    "        if e[i,j].X == 1.0:\n",
    "            G_sol.add_edge(i,j)\n"
   ]
  },
  {
   "cell_type": "code",
   "execution_count": null,
   "metadata": {},
   "outputs": [],
   "source": [
    "pos = nx.circular_layout(G_sol)\n",
    "nx.draw_networkx(G_sol,pos=pos,with_labels=True)"
   ]
  },
  {
   "cell_type": "code",
   "execution_count": null,
   "metadata": {},
   "outputs": [],
   "source": [
    "#print(sum([x[i,j,:,:].sum()*D[i][j] for (i,j) in complete_node_pair_list0]))"
   ]
  },
  {
   "cell_type": "code",
   "execution_count": null,
   "metadata": {
    "scrolled": true
   },
   "outputs": [],
   "source": [
    "print(calc_cost(G_sol,D))\n",
    "print(G_sol.edges)"
   ]
  },
  {
   "cell_type": "code",
   "execution_count": null,
   "metadata": {},
   "outputs": [],
   "source": [
    "def gurobi_optimal(G,D):\n",
    "    n = len(G.nodes)\n",
    "    e = opt_mod.addMVar((len(G.nodes), len(G.nodes)), name=\"e\", vtype=\"B\")\n",
    "    dist = opt_mod.addMVar((len(G.nodes), len(G.nodes)), name=\"dist\", vtype=\"I\", lb=0, ub=GRB.INFINITY)\n",
    "    x = opt_mod.addMVar((len(G.nodes), len(G.nodes),len(G.nodes), len(G.nodes)), name=\"x\", vtype=\"B\")\n",
    "    opt_mod.update()\n",
    "    # Adjacency Matrix (e) Constraints\n",
    "    opt_mod.addConstrs((e[i,(i+1) % len(G.nodes)] == 1 for i in G.nodes), name=\"c-ring\")\n",
    "    opt_mod.addConstrs((e[i,i] == 0 for i in G.nodes), name=\"c-noSelfEdge\")\n",
    "    opt_mod.addConstrs((e[i,j] == e[j,i] for i in G.nodes for j in G.nodes), name=\"c-undirected\")\n",
    "\n",
    "    maxNumberE =  k+1 #math.log(n,2)-1 + 2\n",
    "    opt_mod.addConstrs((e[i,:].sum() <= maxNumberE for i in G.nodes), name=\"c-logE\")\n",
    "\n",
    "\n",
    "        \n",
    "    # Distance Matrix (dist) Constraints. dist[i][j]:= SP-length between i and j\n",
    "    opt_mod.addConstrs((x[i,j,:,:].sum()/2==dist[i,j] for i in G.nodes for j in G.nodes), name=\"c-subpath0\")\n",
    "    opt_mod.addConstrs((dist[i,j] <= dist[i,u] + dist[u,j] for i in G.nodes for j in G.nodes for u in G.nodes),\n",
    "                      name=\"c-dist2\")\n",
    "\n",
    "\n",
    "\n",
    "\n",
    "    # Ensuring that x shows a correct path\n",
    "    opt_mod.addConstrs((x[i,j,u,v] <= e[u,v] for i in G.nodes for j in G.nodes for u in G.nodes for v in G.nodes),\n",
    "                      name=\"flow0\")\n",
    "    for i in G.nodes:\n",
    "        for j in G.nodes:\n",
    "            if i != j:\n",
    "                opt_mod.addConstr(x[i,j,i,:].sum() == 1, name=\"c-flowStart\")\n",
    "                opt_mod.addConstr(x[i,j,:,j].sum() == 1, name=\"c-flowEnd\")\n",
    "                for v in G.nodes:\n",
    "                    if v not in [i,j]:\n",
    "                        opt_mod.addConstr((x[i,j,:,v].sum() - x[i,j,v,:].sum()) == 0, name=\"blue0\")\n",
    "\n",
    "    #Optimization\n",
    "    nodesPairListNoDuplication = complete_node_pair_list_noDuplication(G)\n",
    "    opt_mod.setObjective(sum([dist[i,j]*D[i][j] for (i,j) in nodesPairListNoDuplication]), GRB.MINIMIZE)\n",
    "    opt_mod.update()\n",
    "    opt_mod.optimize()\n",
    "\n",
    "    # Getting result\n",
    "    G_sol = nx.Graph()\n",
    "    for i in range(n): \n",
    "        G_sol.add_node(i)\n",
    "\n",
    "    for i in G_sol.nodes:\n",
    "        for j in range(i+1,len(G_sol.nodes)):\n",
    "            if e[i,j].X == 1.0:\n",
    "                G_sol.add_edge(i,j)\n",
    "    return G_sol"
   ]
  },
  {
   "cell_type": "code",
   "execution_count": null,
   "metadata": {},
   "outputs": [],
   "source": [
    "for k in range(2,4):\n",
    "\tG = init_ring(2**k)\n",
    "\tD = init_uniformDemand_matrix_symmetric(G)\n",
    "\n",
    "\tG_sol = gurobi_optimal(G,D)\n",
    "\n",
    "\tsolution = calc_cost(G_sol,D)\n",
    "\n",
    "\tf = open(\"output.txt\", \"a\")\n",
    "\tf.write(str(k) + \",\" + str(solution)+ \"\\n\")\n",
    "\tf.close()"
   ]
  },
  {
   "cell_type": "code",
   "execution_count": null,
   "metadata": {},
   "outputs": [],
   "source": []
  }
 ],
 "metadata": {
  "interpreter": {
   "hash": "916dbcbb3f70747c44a77c7bcd40155683ae19c65e1c03b4aa3499c5328201f1"
  },
  "kernelspec": {
   "display_name": "Python 3 (ipykernel)",
   "language": "python",
   "name": "python3"
  },
  "language_info": {
   "codemirror_mode": {
    "name": "ipython",
    "version": 3
   },
   "file_extension": ".py",
   "mimetype": "text/x-python",
   "name": "python",
   "nbconvert_exporter": "python",
   "pygments_lexer": "ipython3",
   "version": "3.9.12"
  }
 },
 "nbformat": 4,
 "nbformat_minor": 2
}

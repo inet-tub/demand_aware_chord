{
 "cells": [
  {
   "cell_type": "code",
   "execution_count": 1,
   "metadata": {},
   "outputs": [],
   "source": [
    "import gurobi as gb\n",
    "from gurobipy import GRB\n",
    "\n",
    "import networkx as nx\n",
    "import numpy as np\n",
    "import math"
   ]
  },
  {
   "cell_type": "markdown",
   "metadata": {},
   "source": [
    "# Network model"
   ]
  },
  {
   "cell_type": "code",
   "execution_count": 2,
   "metadata": {},
   "outputs": [],
   "source": [
    "from functions_library import *"
   ]
  },
  {
   "cell_type": "markdown",
   "metadata": {},
   "source": [
    "# Gurobi Optimization\n",
    "Implementation of the LP, which Arash proposed on 6. June 2022"
   ]
  },
  {
   "cell_type": "code",
   "execution_count": 3,
   "metadata": {},
   "outputs": [],
   "source": [
    "opt_mod = gb.Model(name=\"linear programm\")"
   ]
  },
  {
   "cell_type": "markdown",
   "metadata": {},
   "source": [
    "## Setup Network Parameters"
   ]
  },
  {
   "cell_type": "code",
   "execution_count": 4,
   "metadata": {},
   "outputs": [],
   "source": [
    "k = 4\n",
    "G = init_ring(2**k)\n",
    "D = init_uniformDemand_matrix_symmetric(G)\n",
    "#D[0][15] = 1\n",
    "#adjM = np.full((2**k,2**k),0)\n",
    "#A = nx.adjacency_matrix(G)"
   ]
  },
  {
   "cell_type": "markdown",
   "metadata": {},
   "source": [
    "## Setting variables"
   ]
  },
  {
   "cell_type": "code",
   "execution_count": 5,
   "metadata": {},
   "outputs": [],
   "source": [
    "n = len(G.nodes)\n",
    "\n",
    "allShortestPath = nx.shortest_path(G)\n",
    "\n",
    "e = opt_mod.addMVar((len(G.nodes), len(G.nodes)), name=\"e\", vtype=\"B\")\n",
    "dist = opt_mod.addMVar((len(G.nodes), len(G.nodes)), name=\"dist\", vtype=\"I\", lb=0, ub=GRB.INFINITY)\n",
    "x = opt_mod.addMVar((len(G.nodes), len(G.nodes),len(G.nodes), len(G.nodes)), name=\"x\", vtype=\"B\")\n",
    "opt_mod.update() "
   ]
  },
  {
   "cell_type": "markdown",
   "metadata": {},
   "source": [
    "## Adding constraints"
   ]
  },
  {
   "cell_type": "code",
   "execution_count": 6,
   "metadata": {},
   "outputs": [],
   "source": [
    "# Adjacency Matrix (e) Constraints\n",
    "opt_mod.addConstrs((e[i,(i+1) % len(G.nodes)] == 1 for i in G.nodes), name=\"c-ring\")\n",
    "opt_mod.addConstrs((e[i,i] == 0 for i in G.nodes), name=\"c-noSelfEdge\")\n",
    "opt_mod.addConstrs((e[i,j] == e[j,i] for i in G.nodes for j in G.nodes), name=\"c-undirected\")\n",
    "\n",
    "maxNumberE =  k+1 #math.log(n,2)-1 + 2\n",
    "opt_mod.addConstrs((e[i,:].sum() <= maxNumberE for i in G.nodes), name=\"c-logE\")\n",
    "\n",
    "\n",
    "    \n",
    "# Distance Matrix (dist) Constraints. dist[i][j]:= SP-length between i and j\n",
    "opt_mod.addConstrs((x[i,j,:,:].sum()/2==dist[i,j] for i in G.nodes for j in G.nodes), name=\"c-subpath0\")\n",
    "opt_mod.addConstrs((dist[i,j] <= dist[i,u] + dist[u,j] for i in G.nodes for j in G.nodes for u in G.nodes),\n",
    "                  name=\"c-dist2\")\n",
    "\n",
    "\n",
    "\n",
    "\n",
    "# Ensuring that x shows a correct path\n",
    "opt_mod.addConstrs((x[i,j,u,v] <= e[u,v] for i in G.nodes for j in G.nodes for u in G.nodes for v in G.nodes),\n",
    "                  name=\"flow0\")\n",
    "for i in G.nodes:\n",
    "    for j in G.nodes:\n",
    "        if i != j:\n",
    "            opt_mod.addConstr(x[i,j,i,:].sum() == 1, name=\"c-flowStart\")\n",
    "            opt_mod.addConstr(x[i,j,:,j].sum() == 1, name=\"c-flowEnd\")\n",
    "            for v in G.nodes:\n",
    "                if v not in [i,j]:\n",
    "                    opt_mod.addConstr((x[i,j,:,v].sum() - x[i,j,v,:].sum()) == 0, name=\"blue0\")"
   ]
  },
  {
   "cell_type": "markdown",
   "metadata": {},
   "source": [
    "## Objective"
   ]
  },
  {
   "cell_type": "code",
   "execution_count": null,
   "metadata": {},
   "outputs": [
    {
     "name": "stdout",
     "output_type": "stream",
     "text": [
      "Gurobi Optimizer version 9.5.1 build v9.5.1rc2 (linux64)\n",
      "Thread count: 6 physical cores, 12 logical processors, using up to 12 threads\n",
      "Optimize a model with 74032 rows, 66048 columns and 317408 nonzeros\n",
      "Model fingerprint: 0x9aee67a6\n",
      "Variable types: 0 continuous, 66048 integer (65792 binary)\n",
      "Coefficient statistics:\n",
      "  Matrix range     [5e-01, 1e+00]\n",
      "  Objective range  [7e-02, 7e-02]\n",
      "  Bounds range     [1e+00, 1e+00]\n",
      "  RHS range        [1e+00, 5e+00]\n",
      "Presolve removed 13072 rows and 4744 columns\n",
      "Presolve time: 0.63s\n",
      "Presolved: 60960 rows, 61304 columns, 283104 nonzeros\n",
      "Variable types: 0 continuous, 61304 integer (61032 binary)\n"
     ]
    }
   ],
   "source": [
    "#print(len(x[0,1,x,y]))\n",
    "nodesPairListNoDuplication = complete_node_pair_list_noDuplication(G)\n",
    "opt_mod.setObjective(sum([dist[i,j]*D[i][j] for (i,j) in nodesPairListNoDuplication]), GRB.MINIMIZE)\n",
    "opt_mod.update()\n",
    "\n",
    "\n",
    "# Run\n",
    "#opt_mod.display()\n",
    "opt_mod.optimize()"
   ]
  },
  {
   "cell_type": "code",
   "execution_count": null,
   "metadata": {},
   "outputs": [],
   "source": [
    "\"\"\"if opt_mod.status == GRB.Status.OPTIMAL:\n",
    "    print('Obj Function:', opt_mod.objVal)\n",
    "    for v in opt_mod.getVars():\n",
    "        print(v.varName, v.x)       \n",
    "else:\n",
    "    print(opt_mod.status)\"\"\""
   ]
  },
  {
   "cell_type": "markdown",
   "metadata": {},
   "source": [
    "# Putting it back into a graph"
   ]
  },
  {
   "cell_type": "code",
   "execution_count": null,
   "metadata": {},
   "outputs": [],
   "source": [
    "G_sol = nx.Graph()\n",
    "for i in range(n): \n",
    "    G_sol.add_node(i)\n",
    "\n",
    "for i in G_sol.nodes:\n",
    "    for j in range(i+1,len(G_sol.nodes)):\n",
    "        if e[i,j].X == 1.0:\n",
    "            G_sol.add_edge(i,j)\n"
   ]
  },
  {
   "cell_type": "code",
   "execution_count": null,
   "metadata": {},
   "outputs": [],
   "source": [
    "pos = nx.circular_layout(G_sol)\n",
    "nx.draw_networkx(G_sol,pos=pos,with_labels=True)"
   ]
  },
  {
   "cell_type": "code",
   "execution_count": null,
   "metadata": {},
   "outputs": [],
   "source": [
    "#print(sum([x[i,j,:,:].sum()*D[i][j] for (i,j) in complete_node_pair_list0]))"
   ]
  },
  {
   "cell_type": "code",
   "execution_count": null,
   "metadata": {
    "scrolled": true
   },
   "outputs": [],
   "source": [
    "print(calc_cost(G_sol,D))"
   ]
  },
  {
   "cell_type": "code",
   "execution_count": null,
   "metadata": {},
   "outputs": [],
   "source": []
  },
  {
   "cell_type": "code",
   "execution_count": null,
   "metadata": {},
   "outputs": [],
   "source": []
  }
 ],
 "metadata": {
  "interpreter": {
   "hash": "916dbcbb3f70747c44a77c7bcd40155683ae19c65e1c03b4aa3499c5328201f1"
  },
  "kernelspec": {
   "display_name": "Python 3 (ipykernel)",
   "language": "python",
   "name": "python3"
  },
  "language_info": {
   "codemirror_mode": {
    "name": "ipython",
    "version": 3
   },
   "file_extension": ".py",
   "mimetype": "text/x-python",
   "name": "python",
   "nbconvert_exporter": "python",
   "pygments_lexer": "ipython3",
   "version": "3.9.12"
  }
 },
 "nbformat": 4,
 "nbformat_minor": 2
}

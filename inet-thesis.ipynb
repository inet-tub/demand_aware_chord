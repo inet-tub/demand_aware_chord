{
 "cells": [
  {
   "cell_type": "code",
   "execution_count": 1,
   "id": "a0afb43c",
   "metadata": {},
   "outputs": [],
   "source": [
    "import networkx as nx\n",
    "import math\n",
    "import numpy as np\n",
    "#https://networkx.org/documentation/stable/tutorial.html"
   ]
  },
  {
   "cell_type": "code",
   "execution_count": 2,
   "id": "e66c4305",
   "metadata": {},
   "outputs": [],
   "source": [
    "def init_ring(n):\n",
    "    \"\"\"Initializes a graph in ring structure with n nodes\"\"\"\n",
    "    G = nx.Graph()\n",
    "    for i in range(n):\n",
    "        G.add_node(i)\n",
    "    for i in range(n-1):\n",
    "        G.add_edge(i,i+1)\n",
    "    pos = nx.circular_layout(G)\n",
    "    G.add_edge(0,n-1)\n",
    "    nx.draw(G, pos=pos)\n",
    "    print(list(G.nodes))\n",
    "    return(G)\n",
    "\n",
    "def mySolve(G):\n",
    "    n = len(G.nodes)\n",
    "    k = math.log(n,10)\n",
    "    for i in range(n):\n",
    "        distances = nx.floyd_warshall(G, weight='weight')\n",
    "        farthest_node = int(max(distances[i], key=distances[i].get))\n",
    "        if farthest_node > k:\n",
    "            G.add_edge(i,farthest_node)\n",
    "    pos = nx.circular_layout(G)\n",
    "    nx.draw(G,pos=pos)\n",
    "    return(G)\n",
    "    #subG = G.subgraph(range(v,farthest_node+1))"
   ]
  },
  {
   "cell_type": "code",
   "execution_count": 3,
   "id": "307881aa",
   "metadata": {},
   "outputs": [],
   "source": [
    "# Demand matrix\n",
    "def init_demand_matrix(G):\n",
    "    \"\"\"Returns a demand matrix, where each peer pair has the same demand in %\"\"\"\n",
    "    nodesList = G.nodes\n",
    "    print(len(nodesList))\n",
    "    uniformTraffic = round(1/(len(nodesList)*(len(nodesList)-1)),8)\n",
    "    demandMatrix = np.full((len(nodesList),len(nodesList)),uniformTraffic)\n",
    "    for i in range(len(nodesList)):\n",
    "        demandMatrix[i][i] = 0\n",
    "    return demandMatrix\n",
    "def calc_cost(G,D):\n",
    "    \"\"\"Returns the cost of traffic on a graph\n",
    "    \n",
    "    Args:\n",
    "        G (networkx.classes.graph.Graph): network graph\n",
    "        D (numpy.ndarray): Demand Graph\n",
    "    Returns:\n",
    "        cost (numpy.ndarray): cost of total traffic between nodes of G\n",
    "    \"\"\"\n",
    "    nodesList = list(G.nodes)\n",
    "    allShortestPath = nx.shortest_path(G)\n",
    "    allShortestPathCost = [(len(allShortestPath[i][j])-1)*D[i][j]\n",
    "                             for i in nodesList for j in nodesList if i!=j]\n",
    "    return sum(allShortestPathCost)"
   ]
  },
  {
   "cell_type": "markdown",
   "id": "b39221c7",
   "metadata": {},
   "source": [
    "# Helper Functions"
   ]
  },
  {
   "cell_type": "code",
   "execution_count": 4,
   "id": "931f6e2b",
   "metadata": {},
   "outputs": [],
   "source": [
    "# Binary Tranformations and Operations\n",
    "def intToBin(x,graphSize):\n",
    "    \"\"\"Transforms a nodes integer representation to str(binary) representation\n",
    "    \n",
    "    Args: \n",
    "        x: integer, x <= graphSize\n",
    "        graphSize: int, size of network graph\n",
    "    \n",
    "    Returns:\n",
    "        str binary: binary representation of x\n",
    "    \n",
    "    \"\"\"\n",
    "    decimalSize = math.ceil(math.log(graphSize,2))\n",
    "    temp = bin(x)\n",
    "    binary = \"0\"*(decimalSize-len(temp)+2) +temp[2::]\n",
    "    return binary \n",
    "\n",
    "def binToInt(x,graphSize):\n",
    "    \"\"\"Transforms a nodes str(binary) representation to integer representation\"\"\"\n",
    "    decimalSize = math.ceil(math.log(graphSize,2))\n",
    "    integer = 0\n",
    "    for i in range(decimalSize):\n",
    "        integer += int(x[i]) * 2**(decimalSize-i-1)\n",
    "    return integer"
   ]
  },
  {
   "cell_type": "code",
   "execution_count": 5,
   "id": "62ce7e34",
   "metadata": {},
   "outputs": [],
   "source": [
    "# Other cost model?\n",
    "def calc_totalTrafficCost_single_node(node,destination,demandMatrix,G):\n",
    "\n",
    "    shortestDistanceHopLength = [nx.shortest_path_length(G, node, i) for i in list(G.nodes)]\n",
    "    costMatrix = [shortestDistanceHopLength[i]*demandMatrix[node][i] for i in destination]\n",
    "    \n",
    "    return sum(costMatrix)"
   ]
  },
  {
   "cell_type": "markdown",
   "id": "1abed7b0",
   "metadata": {},
   "source": [
    "# Binary Search"
   ]
  },
  {
   "cell_type": "code",
   "execution_count": 6,
   "id": "d08acb3a",
   "metadata": {},
   "outputs": [],
   "source": [
    "# demand-aware binary search\n",
    "def construct_binary_search(G):\n",
    "    \"\"\"constructs edges to enable binary search\n",
    "    \n",
    "    Args: \n",
    "        G: Graph in Ring (or any structure)\n",
    "        \n",
    "    Returns:\n",
    "        G: Graph, with edges for binary search\n",
    "    \"\"\"\n",
    "    for i in range(len(G.nodes)):\n",
    "        binaryGUID = list(intToBin(i,len(G.nodes)))\n",
    "        for j in range(1,len(binaryGUID)+1):\n",
    "            binaryGUID = list(intToBin(i,len(G.nodes)))\n",
    "            binaryGUID[-j] = str((int(binaryGUID[-j]) + 1) % 2)\n",
    "            peer = binToInt(binaryGUID,len(G.nodes))\n",
    "            print(\"\")\n",
    "            G.add_edge(i,peer)\n",
    "    return G\n",
    "\n",
    "\n",
    "def construct_demand_aware_binary_search(G,demandMatrix):\n",
    "    \"\"\"Constructs edges in a ring graph, to enable demand aware binary search\"\"\"\n",
    "    copyDemandMatrix = demandMatrix\n",
    "    \n",
    "    maxEdge = np.argmax(copyDemandMatrix)\n",
    "    #convert index to position\n",
    "    row = math.floor(maxEdge/len(copyDemandMatrix))\n",
    "    col = maxEdge % len(copyDemandMatrix)\n",
    "    \n",
    "    # If demand the same for all, do binary search\n",
    "    if copyDemandMatrix[row][col] == round(1/(len(copyDemandMatrix)*(len(copyDemandMatrix)-1)),8):\n",
    "        construct_binary_search(G)\n",
    "        return G\n",
    "    \n",
    "    listOfNodes = list(G.nodes) \n",
    "    k = math.floor(math.log(len(listOfNodes),2))\n",
    "    \n",
    "    # Rearrange binary search to upgrade graph\n",
    "    for i in range(len(copyDemandMatrix)):\n",
    "        #copyDemandMatrix[i][1:len(copyDemandMatrix)-1]\n",
    "        lastEdge = (i+math.ceil(len(copyDemandMatrix)/2)-1) % len(copyDemandMatrix)\n",
    "        G.add_edge(i,lastEdge)\n",
    "        \n",
    "        frontNode = i\n",
    "        backNode = len(G.nodes)-1 + (i % len(G.nodes)) +1\n",
    "        for j in range(2,k):\n",
    "            costFront = calc_totalTrafficCost_single_node(i,listOfNodes[frontNode:lastEdge+1],demandMatrix,G)\n",
    "            costBack = calc_totalTrafficCost_single_node(i,listOfNodes[lastEdge:backNode],demandMatrix,G)\n",
    "            if costFront > costBack:\n",
    "                backNode = lastEdge\n",
    "                lastEdge = lastEdge-math.ceil(len(listOfNodes)/(2**j))\n",
    "                G.add_edge(i,lastEdge)\n",
    "            else:\n",
    "                frontNode = lastEdge\n",
    "                lastEdge = lastEdge+math.floor(len(listOfNodes)/(2**j))\n",
    "                \n",
    "                G.add_edge(i,lastEdge)\n",
    "    return G\n"
   ]
  },
  {
   "cell_type": "markdown",
   "id": "a0b085ab",
   "metadata": {},
   "source": [
    "# Testing"
   ]
  },
  {
   "cell_type": "code",
   "execution_count": null,
   "id": "bfbcadc6",
   "metadata": {},
   "outputs": [],
   "source": [
    "# Init size for Ring, 2^k\n",
    "k = 5\n",
    "G = init_ring(2**k)\n",
    "D = init_demand_matrix(G)\n",
    "#print(demandMatrix)"
   ]
  },
  {
   "cell_type": "code",
   "execution_count": null,
   "id": "684bd035",
   "metadata": {},
   "outputs": [],
   "source": [
    "#demandMatrix[4][15] = 1\n",
    "G = construct_demand_aware_binary_search(G,D)\n",
    "pos = nx.circular_layout(G)\n",
    "nx.draw_networkx(G,pos=pos,with_labels=True)\n",
    "calc_cost(G,D)"
   ]
  },
  {
   "cell_type": "code",
   "execution_count": null,
   "id": "6c5a39f9",
   "metadata": {},
   "outputs": [],
   "source": [
    "print(calc_totalTrafficCost_single_node(i,listOfNodes[1:10],demandMatrix,G))"
   ]
  },
  {
   "cell_type": "code",
   "execution_count": null,
   "id": "c6d49498",
   "metadata": {},
   "outputs": [],
   "source": [
    "demandMatrix[0][1] = 1\n",
    "print(construct_binary_search(G))\n",
    "print(~-1)"
   ]
  },
  {
   "cell_type": "code",
   "execution_count": null,
   "id": "ba8e3594",
   "metadata": {},
   "outputs": [],
   "source": [
    "#Testing\n",
    "print(G.number_of_edges(),2**(k+1))\n",
    "\n",
    "#Test if every node can reach every other in max. log(n) hops\n",
    "distances = nx.floyd_warshall(G, weight='weight')\n",
    "for i in range(2**k):\n",
    "    maxKey = max(distances[i], key=distances[i].get)\n",
    "    tempMax = distances[i][maxKey]\n",
    "print(k >= tempMax,tempMax)\n"
   ]
  },
  {
   "cell_type": "code",
   "execution_count": null,
   "id": "ed7f8222",
   "metadata": {},
   "outputs": [],
   "source": []
  },
  {
   "cell_type": "markdown",
   "id": "ce96df8e",
   "metadata": {},
   "source": [
    "# Proof"
   ]
  },
  {
   "cell_type": "code",
   "execution_count": null,
   "id": "5aa0b93f",
   "metadata": {},
   "outputs": [],
   "source": [
    "def init_matrix(k):\n",
    "    n = 2**k\n",
    "    matr_graph = []\n",
    "    \n",
    "    temp = []\n",
    "    temp.append(bin(1),bin(n))\n",
    "    temp.append(['0b' + ''])\n",
    "    matr_graph.append((bin(0),[bin(1),bin(n)]))\n",
    "    \n",
    "    \n",
    "    for i in range(1,n-1):\n",
    "        temp = []\n",
    "        temp.append(bin(i))\n",
    "        temp.append(bin(i-1))\n",
    "        temp.append(bin(i+1))\n",
    "        matr_graph.append((temp[0],temp[1:]))\n",
    "    print(matr_graph)"
   ]
  },
  {
   "cell_type": "code",
   "execution_count": null,
   "id": "c253e305",
   "metadata": {},
   "outputs": [],
   "source": [
    "init_matrix(3)"
   ]
  },
  {
   "cell_type": "code",
   "execution_count": null,
   "id": "c718cc25",
   "metadata": {},
   "outputs": [],
   "source": [
    "bin(7)"
   ]
  },
  {
   "cell_type": "code",
   "execution_count": null,
   "id": "ec2b5feb",
   "metadata": {},
   "outputs": [],
   "source": []
  }
 ],
 "metadata": {
  "kernelspec": {
   "display_name": "Python 3 (ipykernel)",
   "language": "python",
   "name": "python3"
  },
  "language_info": {
   "codemirror_mode": {
    "name": "ipython",
    "version": 3
   },
   "file_extension": ".py",
   "mimetype": "text/x-python",
   "name": "python",
   "nbconvert_exporter": "python",
   "pygments_lexer": "ipython3",
   "version": "3.9.12"
  }
 },
 "nbformat": 4,
 "nbformat_minor": 5
}

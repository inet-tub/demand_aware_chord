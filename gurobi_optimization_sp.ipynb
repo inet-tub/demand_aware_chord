{
 "cells": [
  {
   "cell_type": "code",
   "execution_count": 1,
   "id": "4f85904c",
   "metadata": {},
   "outputs": [],
   "source": [
    "import gurobi as gb\n",
    "from gurobipy import GRB\n",
    "\n",
    "import networkx as nx\n",
    "import numpy as np\n",
    "import math"
   ]
  },
  {
   "cell_type": "code",
   "execution_count": 2,
   "id": "c0cb046b",
   "metadata": {},
   "outputs": [],
   "source": [
    "from functions_library import *"
   ]
  },
  {
   "cell_type": "code",
   "execution_count": 3,
   "id": "178cc488",
   "metadata": {},
   "outputs": [
    {
     "name": "stdout",
     "output_type": "stream",
     "text": [
      "Set parameter Username\n",
      "Academic license - for non-commercial use only - expires 2023-06-02\n"
     ]
    }
   ],
   "source": [
    "opt_mod = gb.Model(name=\"linear programm\")\n",
    "#opt_mod.setParam(\"IterationLimit\",400000)\n",
    "#opt_mod.setParam(\"DegenMoves\",0);"
   ]
  },
  {
   "cell_type": "code",
   "execution_count": 4,
   "id": "9aa4ef70",
   "metadata": {},
   "outputs": [],
   "source": [
    "k = 4\n",
    "G = init_ring(2**k)\n",
    "D = init_uniformDemand_matrix_symmetric(G)\n",
    "nodesPairListNoDuplication = complete_node_pair_list_noDuplication(G)\n",
    "n = len(G.nodes)"
   ]
  },
  {
   "cell_type": "code",
   "execution_count": 5,
   "id": "ad768b44",
   "metadata": {},
   "outputs": [],
   "source": [
    "e = opt_mod.addMVar((n,n), name=\"e\", vtype=\"I\",lb=0,ub=1)\n",
    "SP = opt_mod.addMVar((n,n,n), name=\"sp\", vtype=\"C\", lb=0, ub=GRB.INFINITY)\n",
    "helper = opt_mod.addMVar((n,n), name=\"sp\", vtype=\"C\", lb=0, ub=GRB.INFINITY)\n",
    "opt_mod.update()"
   ]
  },
  {
   "cell_type": "code",
   "execution_count": 15,
   "id": "f5325146",
   "metadata": {},
   "outputs": [],
   "source": [
    "# Adjacency Matrix (e) Constraints\n",
    "opt_mod.addConstrs((e[i,(i+1) % n] == 1 for i in G.nodes), name=\"c-ring\")\n",
    "opt_mod.addConstrs((e[i,i] == 0 for i in G.nodes), name=\"c-noSelfEdge\")\n",
    "opt_mod.addConstrs((e[i,j] == e[j,i] for i in G.nodes for j in G.nodes), name=\"c-undirected\")\n",
    "\n",
    "maxNumberE =  k+1 #math.log(n,2)-1 + 2\n",
    "opt_mod.addConstrs((e[i,:].sum() <= maxNumberE for i in G.nodes), name=\"c-logE\")\n",
    "opt_mod.update() \n",
    "\n",
    "\n",
    "opt_mod.addConstrs((SP[0,i,j] == ((1-e[i][j])*n)+(e[i][j]) for i in G.nodes for j in G.nodes))\n",
    " \n",
    "# Ensuring that x shows a correct path\n",
    "for k in range(1,n):\n",
    "    for i in G.nodes:\n",
    "        for j in G.nodes:\n",
    "            if i!=j:\n",
    "                opt_mod.addConstr(SP[k,i,j] <= SP[k-1,i,j])\n",
    "                opt_mod.addConstr(SP[k,i,j] <= SP[k-1,i,k] + SP[k-1,k,j])\n",
    "                #opt_mod.addConstr((SP[k-1,i,j] >= SP[k-1,i,k] + SP[k-1,k,j]) >> (SP[k,i,j]==SP[k-1,i,k] + SP[k-1,k,j]))"
   ]
  },
  {
   "cell_type": "code",
   "execution_count": 9,
   "id": "dd324558",
   "metadata": {},
   "outputs": [
    {
     "name": "stdout",
     "output_type": "stream",
     "text": [
      "Gurobi Optimizer version 9.5.1 build v9.5.1rc2 (linux64)\n",
      "Thread count: 6 physical cores, 12 logical processors, using up to 12 threads\n",
      "Optimize a model with 8320 rows, 4608 columns and 20560 nonzeros\n",
      "Model fingerprint: 0xf636bdda\n",
      "Variable types: 4352 continuous, 256 integer (0 binary)\n",
      "Coefficient statistics:\n",
      "  Matrix range     [1e+00, 2e+01]\n",
      "  Objective range  [7e-02, 7e-02]\n",
      "  Bounds range     [1e+00, 1e+00]\n",
      "  RHS range        [1e+00, 2e+01]\n",
      "\n",
      "MIP start from previous solve did not produce a new incumbent solution\n",
      "MIP start from previous solve violates constraint c-logE[1] by 1.000000000\n",
      "\n",
      "Presolve removed 8320 rows and 4608 columns\n",
      "Presolve time: 0.00s\n",
      "Presolve: All rows and columns removed\n",
      "\n",
      "Explored 0 nodes (0 simplex iterations) in 0.01 seconds (0.01 work units)\n",
      "Thread count was 1 (of 12 available processors)\n",
      "\n",
      "Solution count 1: 15 \n",
      "\n",
      "Optimal solution found (tolerance 1.00e-04)\n",
      "Best objective 1.500000075000e+01, best bound 1.500000075000e+01, gap 0.0000%\n"
     ]
    }
   ],
   "source": [
    "#print(len(x[0,1,x,y]))\n",
    "opt_mod.setObjective(sum([SP[i,j,n-1]*D[i][j] for (i,j) in nodesPairListNoDuplication]), GRB.MINIMIZE)\n",
    "opt_mod.update()\n",
    "\n",
    "\n",
    "# Run\n",
    "#opt_mod.display()\n",
    "opt_mod.optimize()"
   ]
  },
  {
   "cell_type": "code",
   "execution_count": null,
   "id": "35def16b",
   "metadata": {},
   "outputs": [],
   "source": []
  },
  {
   "cell_type": "code",
   "execution_count": 10,
   "id": "00ad16d1",
   "metadata": {},
   "outputs": [
    {
     "name": "stdout",
     "output_type": "stream",
     "text": [
      "68.2666700799998\n"
     ]
    },
    {
     "data": {
      "image/png": "[encoded data removed]",
      "text/plain": [
       "<Figure size 432x288 with 1 Axes>"
      ]
     },
     "metadata": {},
     "output_type": "display_data"
    }
   ],
   "source": [
    "G_sol = nx.Graph()\n",
    "for i in range(len(G.nodes)): \n",
    "    G_sol.add_node(i)\n",
    "\n",
    "for i in G_sol.nodes:\n",
    "    for j in range(i+1,len(G_sol.nodes)):\n",
    "        if e[i,j].X == 1.0:\n",
    "            G_sol.add_edge(i,j)\n",
    "pos = nx.circular_layout(G_sol)\n",
    "nx.draw_networkx(G_sol,pos=pos,with_labels=True)\n",
    "print(calc_cost(G_sol,D))"
   ]
  },
  {
   "cell_type": "code",
   "execution_count": null,
   "id": "696e0093",
   "metadata": {},
   "outputs": [],
   "source": [
    "print(G_sol.edges)"
   ]
  },
  {
   "cell_type": "code",
   "execution_count": null,
   "id": "c876b875",
   "metadata": {},
   "outputs": [],
   "source": []
  }
 ],
 "metadata": {
  "kernelspec": {
   "display_name": "Python 3 (ipykernel)",
   "language": "python",
   "name": "python3"
  },
  "language_info": {
   "codemirror_mode": {
    "name": "ipython",
    "version": 3
   },
   "file_extension": ".py",
   "mimetype": "text/x-python",
   "name": "python",
   "nbconvert_exporter": "python",
   "pygments_lexer": "ipython3",
   "version": "3.9.12"
  }
 },
 "nbformat": 4,
 "nbformat_minor": 5
}

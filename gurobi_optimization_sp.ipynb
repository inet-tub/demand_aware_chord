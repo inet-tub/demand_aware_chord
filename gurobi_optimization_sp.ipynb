{
 "cells": [
  {
   "cell_type": "code",
   "execution_count": 1,
   "id": "4f85904c",
   "metadata": {},
   "outputs": [],
   "source": [
    "import gurobi as gb\n",
    "from gurobipy import GRB\n",
    "\n",
    "import networkx as nx\n",
    "import numpy as np\n",
    "import math"
   ]
  },
  {
   "cell_type": "code",
   "execution_count": 2,
   "id": "c0cb046b",
   "metadata": {},
   "outputs": [],
   "source": [
    "from functions_library import *"
   ]
  },
  {
   "cell_type": "code",
   "execution_count": 3,
   "id": "178cc488",
   "metadata": {},
   "outputs": [
    {
     "name": "stdout",
     "output_type": "stream",
     "text": [
      "Set parameter Username\n",
      "Academic license - for non-commercial use only - expires 2023-06-02\n",
      "Set parameter MIPFocus to value 3\n"
     ]
    }
   ],
   "source": [
    "opt_mod = gb.Model(name=\"linear programm\")\n",
    "#opt_mod.setParam(\"IterationLimit\",400000)\n",
    "#opt_mod.setParam(\"DegenMoves\",0);\n",
    "\n",
    "opt_mod.setParam(\"MIPFocus\",3);\n",
    "\n"
   ]
  },
  {
   "cell_type": "code",
   "execution_count": 4,
   "id": "9aa4ef70",
   "metadata": {},
   "outputs": [],
   "source": [
    "k = 4\n",
    "G = init_ring(2**k)\n",
    "D = init_uniformDemand_matrix_symmetric(G)\n",
    "nodesPairListNoDuplication = complete_node_pair_list_noDuplication(G)\n",
    "n = 2**k"
   ]
  },
  {
   "cell_type": "code",
   "execution_count": 5,
   "id": "ad768b44",
   "metadata": {},
   "outputs": [],
   "source": [
    "e = opt_mod.addMVar((n,n), name=\"e\", vtype=\"I\",lb=0,ub=1)\n",
    "SP = opt_mod.addMVar((n,n,n), name=\"sp\", vtype=\"I\", lb=0, ub=(n/2)+1)\n",
    "helper = opt_mod.addMVar((n,n,n), name=\"helper\", vtype=\"I\", lb=0, ub=n+2)\n",
    "opt_mod.update()"
   ]
  },
  {
   "cell_type": "code",
   "execution_count": 6,
   "id": "f5325146",
   "metadata": {},
   "outputs": [],
   "source": [
    "# Adjacency Matrix (e) Constraints\n",
    "opt_mod.addConstrs((e[i,(i+1) % n] == 1 for i in range(n)), name=\"c-ring\")\n",
    "opt_mod.addConstrs((e[i,i] == 0 for i in range(n)), name=\"c-noSelfEdge\")\n",
    "opt_mod.addConstrs((e[i,j] == e[j,i] for i in range(n) for j in range(n)), name=\"c-undirected\")\n",
    "\n",
    "maxNumberE =  k+1 #math.log(n,2)-1 + 2\n",
    "opt_mod.addConstrs((e[i,:].sum() <= maxNumberE for i in range(n)), name=\"c-logE\")\n",
    "opt_mod.update() \n",
    "\n",
    "\n",
    "opt_mod.addConstrs((SP[0,i,j] == (1-e[i][j])*((n/2)+1)+(e[i][j]) for i in range(n) for j in range(n)), name=\"c-DP_init\")\n",
    " \n",
    "# Ensuring that x shows a correct path\n",
    "for k in range(1,n):\n",
    "    for i in range(n):\n",
    "        for j in range(n):\n",
    "            if i!=j:\n",
    "                opt_mod.addConstr(helper[k-1,i,j] == gb.quicksum([SP[k-1,i,k],SP[k-1,k,j]]), name=\"c-DP-helper\")\n",
    "                opt_mod.addConstr(SP[k,i,j] == gb.min_(SP[k-1,i,j],helper[k-1,i,j]), name=\"c-DP0\")\n",
    "                #pt_mod.addConstr((SP[k-1,i,k] + SP[k-1,k,j]) + n*helper[k-1,i,j] <= SP[k-1,k,j])\n",
    "                #opt_mod.addConstr(SP[k,i,j] == ((1-helper[k-1,i,j])*(SP[k-1,i,k] + SP[k-1,k,j])) + ((helper[k-1,i,j])*(SP[k-1,i,j])))\n",
    "                #opt_mod.addConstr(SP[k,i,j] <= SP[k-1,i,k] + SP[k-1,k,j])\n",
    "                #opt_mod.addConstr((SP[k-1,i,j] >= SP[k-1,i,k] + SP[k-1,k,j]) >> (SP[k,i,j]==SP[k-1,i,k] + SP[k-1,k,j]))"
   ]
  },
  {
   "cell_type": "code",
   "execution_count": null,
   "id": "dd324558",
   "metadata": {},
   "outputs": [
    {
     "name": "stdout",
     "output_type": "stream",
     "text": [
      "Gurobi Optimizer version 9.5.1 build v9.5.1rc2 (linux64)\n",
      "Thread count: 6 physical cores, 12 logical processors, using up to 12 threads\n",
      "Optimize a model with 4160 rows, 8448 columns and 12080 nonzeros\n",
      "Model fingerprint: 0x7182fbca\n",
      "Model has 3600 general constraints\n",
      "Variable types: 0 continuous, 8448 integer (0 binary)\n",
      "Coefficient statistics:\n",
      "  Matrix range     [1e+00, 8e+00]\n",
      "  Objective range  [7e-02, 7e-02]\n",
      "  Bounds range     [1e+00, 2e+01]\n",
      "  RHS range        [1e+00, 9e+00]\n",
      "Presolve added 6246 rows and 2060 columns\n",
      "Presolve time: 0.89s\n",
      "Presolved: 10406 rows, 10508 columns, 28820 nonzeros\n",
      "Variable types: 0 continuous, 10508 integer (2946 binary)\n",
      "Root relaxation presolve removed 4020 rows and 4020 columns\n",
      "Root relaxation presolved: 6386 rows, 6488 columns, 22210 nonzeros\n",
      "\n",
      "\n",
      "Root relaxation: objective 8.000000e+00, 1593 iterations, 0.06 seconds (0.05 work units)\n",
      "\n",
      "    Nodes    |    Current Node    |     Objective Bounds      |     Work\n",
      " Expl Unexpl |  Obj  Depth IntInf | Incumbent    BestBd   Gap | It/Node Time\n",
      "\n",
      "     0     0    8.00000    0  604          -    8.00000      -     -    1s\n",
      "     0     0    8.00000    0  850          -    8.00000      -     -    2s\n",
      "     0     0    8.00000    0 1204          -    8.00000      -     -    3s\n",
      "     0     0    8.00000    0  964          -    8.00000      -     -    4s\n",
      "     0     0    8.00000    0 2157          -    8.00000      -     -    5s\n",
      "     0     0    8.00000    0 1073          -    8.00000      -     -    8s\n",
      "     0     0    8.00000    0  804          -    8.00000      -     -    9s\n",
      "     0     2    8.06667    0  790          -    8.06667      -     -    9s\n",
      "     3     8    8.06667    2 2490          -    8.06667      -  1014   10s\n",
      "    13    20    8.06667    3 4542          -    8.06667      -  2690   15s\n",
      "    19    26    8.06667    4 4857          -    8.06667      -  3753   20s\n",
      "    25    32    8.06667    4 4806          -    8.06667      -  4079   26s\n",
      "    31    61    8.06667    4 4880          -    8.06667      -  4871   32s\n",
      "    60   136    8.06667    4 4191          -    8.06667      -  3208   37s\n",
      "   135   484    8.06667   12 1908          -    8.06667      -  1696   40s\n",
      "   914  1251    8.06667   41 1446          -    8.06667      -   351   46s\n",
      "  1688  1253    8.06667   44  692          -    8.06667      -   225   50s\n",
      "  1691  1255    8.06679   41  632          -    8.06667      -   224   60s\n",
      "  1693  1257    8.06667   38 1039          -    8.06667      -   224   70s\n",
      "  1695  1258    8.06667   54 1438          -    8.06667      -   224   81s\n",
      "  1697  1259    8.06667   19 1352          -    8.06667      -   223   86s\n",
      "  1699  1263    8.06667   16 1479          -    8.06667      -  42.8   90s\n",
      "  1701  1263    8.06667   17 2576          -    8.06667      -  44.1  110s\n",
      "  1704  1263    8.06667   18 3156          -    8.06667      -  48.4  116s\n",
      "  1708  1266    8.06667   19 3518          -    8.06667      -  59.5  123s\n",
      "  1713  1268    8.06667   20 3497          -    8.06667      -  72.2  125s\n"
     ]
    }
   ],
   "source": [
    "#print(len(x[0,1,x,y]))\n",
    "opt_mod.setObjective(gb.quicksum([SP[n-1,i,j]*D[i][j] for (i,j) in nodesPairListNoDuplication]), GRB.MINIMIZE)\n",
    "opt_mod.update()\n",
    "\n",
    "\n",
    "# Run\n",
    "#opt_mod.display()\n",
    "opt_mod.optimize()"
   ]
  },
  {
   "cell_type": "code",
   "execution_count": null,
   "id": "35def16b",
   "metadata": {},
   "outputs": [],
   "source": []
  },
  {
   "cell_type": "code",
   "execution_count": null,
   "id": "00ad16d1",
   "metadata": {},
   "outputs": [],
   "source": [
    "G_sol = nx.Graph()\n",
    "for i in range(len(G.nodes)): \n",
    "    G_sol.add_node(i)\n",
    "\n",
    "for i in G_sol.nodes:\n",
    "    for j in range(i+1,len(G_sol.nodes)):\n",
    "        if e[i,j].X == 1.0:\n",
    "            G_sol.add_edge(i,j)\n",
    "pos = nx.circular_layout(G_sol)\n",
    "nx.draw_networkx(G_sol,pos=pos,with_labels=True)\n",
    "print(calc_cost(G_sol,D))"
   ]
  },
  {
   "cell_type": "code",
   "execution_count": null,
   "id": "696e0093",
   "metadata": {},
   "outputs": [],
   "source": [
    "print(G_sol.edges)"
   ]
  },
  {
   "cell_type": "code",
   "execution_count": null,
   "id": "c876b875",
   "metadata": {},
   "outputs": [],
   "source": []
  }
 ],
 "metadata": {
  "kernelspec": {
   "display_name": "Python 3 (ipykernel)",
   "language": "python",
   "name": "python3"
  },
  "language_info": {
   "codemirror_mode": {
    "name": "ipython",
    "version": 3
   },
   "file_extension": ".py",
   "mimetype": "text/x-python",
   "name": "python",
   "nbconvert_exporter": "python",
   "pygments_lexer": "ipython3",
   "version": "3.9.12"
  }
 },
 "nbformat": 4,
 "nbformat_minor": 5
}

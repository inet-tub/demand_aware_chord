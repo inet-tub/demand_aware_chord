{
 "cells": [
  {
   "cell_type": "code",
   "execution_count": 1,
   "id": "4f85904c",
   "metadata": {},
   "outputs": [],
   "source": [
    "import gurobi as gb\n",
    "from gurobipy import GRB\n",
    "\n",
    "import networkx as nx\n",
    "import numpy as np\n",
    "import math"
   ]
  },
  {
   "cell_type": "code",
   "execution_count": 2,
   "id": "c0cb046b",
   "metadata": {},
   "outputs": [],
   "source": [
    "from functions_library import *"
   ]
  },
  {
   "cell_type": "code",
   "execution_count": 3,
   "id": "178cc488",
   "metadata": {},
   "outputs": [
    {
     "name": "stdout",
     "output_type": "stream",
     "text": [
      "Set parameter Username\n",
      "Academic license - for non-commercial use only - expires 2023-06-02\n",
      "Set parameter MIPFocus to value 2\n",
      "Set parameter TimeLimit to value 600\n"
     ]
    }
   ],
   "source": [
    "opt_mod = gb.Model(name=\"linear programm\")\n",
    "#opt_mod.setParam(\"IterationLimit\",400000)\n",
    "#opt_mod.setParam(\"DegenMoves\",0);\n",
    "\n",
    "opt_mod.setParam(\"MIPFocus\",2);\n",
    "\n",
    "opt_mod.setParam(\"TimeLimit\",600)\n",
    "\n"
   ]
  },
  {
   "cell_type": "code",
   "execution_count": 4,
   "id": "9aa4ef70",
   "metadata": {},
   "outputs": [],
   "source": [
    "k = 4\n",
    "G = init_ring(2**k)\n",
    "D = init_uniformDemand_matrix_symmetric(G)\n",
    "nodesPairListNoDuplication = complete_node_pair_list_noDuplication(G)\n",
    "n = 2**k"
   ]
  },
  {
   "cell_type": "code",
   "execution_count": 5,
   "id": "ad768b44",
   "metadata": {},
   "outputs": [],
   "source": [
    "e = opt_mod.addMVar((n,n), name=\"e\", vtype=\"B\")\n",
    "SP = opt_mod.addMVar((n,n,n), name=\"sp\", vtype=\"I\", lb=-GRB.INFINITY, ub=(n/2)+1)\n",
    "helper = opt_mod.addMVar((n,n,n), name=\"helper\", vtype=\"I\", lb=0, ub=1)\n",
    "opt_mod.update()"
   ]
  },
  {
   "cell_type": "code",
   "execution_count": 6,
   "id": "f5325146",
   "metadata": {},
   "outputs": [],
   "source": [
    "# Adjacency Matrix (e) Constraints\n",
    "opt_mod.addConstrs((e[i,(i+1) % n] == 1 for i in range(n)), name=\"c-ring\")\n",
    "opt_mod.addConstrs((e[i,i] == 0 for i in range(n)), name=\"c-noSelfEdge\")\n",
    "opt_mod.addConstrs((e[i,j] == e[j,i] for i in range(n) for j in range(n)), name=\"c-undirected\")\n",
    "\n",
    "maxNumberE =  k+1 #math.log(n,2)-1 + 2\n",
    "opt_mod.addConstrs((e[i,:].sum() <= maxNumberE for i in range(n)), name=\"c-logE\")\n",
    "opt_mod.update() \n",
    "\n",
    "\n",
    "opt_mod.addConstrs((SP[0,i,j] == (1-e[i][j])*((n/2)+1)+(e[i][j]) for i in range(n) for j in range(n)), name=\"c-DP_init\")\n",
    " \n",
    "# Ensuring that x shows a correct path\n",
    "for k in range(1,n):\n",
    "    for i in range(n):\n",
    "        for j in range(n):\n",
    "            if i!=j:\n",
    "                opt_mod.addGenConstrIndicator(helper[k-1,i,j],True,gb.quicksum([SP[k-1,i,k],SP[k-1,k,j]])>=SP[k-1,i,j])\n",
    "                opt_mod.addGenConstrIndicator(helper[k-1,i,j],True,SP[k,i,j] == ((gb.quicksum([SP[k-1,i,k],SP[k-1,k,j],SP[k-1,i,j]]))/2)-((gb.quicksum([SP[k-1,i,k],SP[k-1,k,j]])-SP[k-1,i,j])/2))\n",
    "                opt_mod.addGenConstrIndicator(helper[k-1,i,j],False,SP[k,i,j] == ((gb.quicksum([SP[k-1,i,k],SP[k-1,k,j],SP[k-1,i,j]]))/2)-((SP[k-1,i,j]-gb.quicksum([SP[k-1,i,k],SP[k-1,k,j]]))/2))\n",
    "                #opt_mod.addConstr(SP[k,i,j] == ((gb.quicksum([SP[k-1,i,k],SP[k-1,k,j],SP[k-1,i,j]]))/2)-(((helper[k-1,i,j]*gb.quicksum([SP[k-1,i,k],SP[k-1,k,j]])+(helper[k-1,i,j]-1)*gb.quicksum([SP[k-1,i,k],SP[k-1,k,j]]))-SP[k-1,i,j])/2))\n",
    "                #opt_mod.addConstr(SP[k,i,j] <= SP[k-1,i,j])\n",
    "                #opt_mod.addConstr(helper[k-1,i,j] == gb.quicksum([SP[k-1,i,k],SP[k-1,k,j]]), name=\"c-DP-helper\"), name=\"c-DP0\")\n",
    "                #pt_mod.addConstr((SP[k-1,i,k] + SP[k-1,k,j]) + n*helper[k-1,i,j] <= SP[k-1,k,j])\n",
    "                #opt_mod.addConstr(SP[k,i,j] == ((1-helper[k-1,i,j])*(SP[k-1,i,k] + SP[k-1,k,j])) + ((helper[k-1,i,j])*(SP[k-1,i,j])))\n",
    "                #opt_mod.addConstr(SP[k,i,j] <= SP[k-1,i,k] + SP[k-1,k,j])\n",
    "                #opt_mod.addConstr((SP[k,i,j] <= SP[k-1,i,j]))\n",
    "opt_mod.update() "
   ]
  },
  {
   "cell_type": "code",
   "execution_count": null,
   "id": "dd324558",
   "metadata": {},
   "outputs": [
    {
     "name": "stdout",
     "output_type": "stream",
     "text": [
      "Gurobi Optimizer version 9.5.1 build v9.5.1rc2 (linux64)\n",
      "Thread count: 6 physical cores, 12 logical processors, using up to 12 threads\n",
      "Optimize a model with 560 rows, 8448 columns and 1280 nonzeros\n",
      "Model fingerprint: 0x13ce1171\n",
      "Model has 10800 general constraints\n",
      "Variable types: 0 continuous, 8448 integer (256 binary)\n",
      "Coefficient statistics:\n",
      "  Matrix range     [1e+00, 8e+00]\n",
      "  Objective range  [7e-02, 7e-02]\n",
      "  Bounds range     [1e+00, 9e+00]\n",
      "  RHS range        [1e+00, 9e+00]\n",
      "  GenCon coe range [1e+00, 1e+00]\n",
      "Presolve added 16165 rows and 9580 columns\n",
      "Presolve time: 0.34s\n",
      "Presolved: 16725 rows, 18028 columns, 52669 nonzeros\n",
      "Presolved model has 7095 SOS constraint(s)\n",
      "Variable types: 0 continuous, 18028 integer (6745 binary)\n",
      "Root relaxation presolve removed 9434 rows and 13834 columns\n",
      "\n",
      "Root relaxation: numerical trouble, 0 iterations, 0.02 seconds (0.00 work units)\n",
      "\n",
      "    Nodes    |    Current Node    |     Objective Bounds      |     Work\n",
      " Expl Unexpl |  Obj  Depth IntInf | Incumbent    BestBd   Gap | It/Node Time\n",
      "\n",
      "     0     2  postponed    0               -          -      -     -    0s\n"
     ]
    }
   ],
   "source": [
    "#print(len(x[0,1,x,y]))\n",
    "opt_mod.setObjective(gb.quicksum([SP[n-1,i,j]*D[i][j] for i in G.nodes for j in G.nodes]), GRB.MINIMIZE)\n",
    "opt_mod.update()\n",
    "\n",
    "\n",
    "# Run\n",
    "#opt_mod.display()\n",
    "opt_mod.optimize()"
   ]
  },
  {
   "cell_type": "code",
   "execution_count": null,
   "id": "35def16b",
   "metadata": {},
   "outputs": [],
   "source": []
  },
  {
   "cell_type": "code",
   "execution_count": null,
   "id": "00ad16d1",
   "metadata": {},
   "outputs": [],
   "source": [
    "G_sol = nx.Graph()\n",
    "for i in range(len(G.nodes)): \n",
    "    G_sol.add_node(i)\n",
    "\n",
    "for i in G_sol.nodes:\n",
    "    for j in range(i+1,len(G_sol.nodes)):\n",
    "        if e[i,j].X == 1.0:\n",
    "            G_sol.add_edge(i,j)\n",
    "pos = nx.circular_layout(G_sol)\n",
    "nx.draw_networkx(G_sol,pos=pos,with_labels=True)\n",
    "print(calc_cost(G_sol,D))"
   ]
  },
  {
   "cell_type": "code",
   "execution_count": null,
   "id": "696e0093",
   "metadata": {},
   "outputs": [],
   "source": [
    "print(G_sol.edges)"
   ]
  },
  {
   "cell_type": "code",
   "execution_count": null,
   "id": "c876b875",
   "metadata": {},
   "outputs": [],
   "source": []
  }
 ],
 "metadata": {
  "kernelspec": {
   "display_name": "Python 3 (ipykernel)",
   "language": "python",
   "name": "python3"
  },
  "language_info": {
   "codemirror_mode": {
    "name": "ipython",
    "version": 3
   },
   "file_extension": ".py",
   "mimetype": "text/x-python",
   "name": "python",
   "nbconvert_exporter": "python",
   "pygments_lexer": "ipython3",
   "version": "3.9.12"
  }
 },
 "nbformat": 4,
 "nbformat_minor": 5
}

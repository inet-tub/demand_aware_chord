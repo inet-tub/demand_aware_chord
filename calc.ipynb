{
 "cells": [
  {
   "cell_type": "code",
   "execution_count": 1,
   "id": "8c39e526",
   "metadata": {},
   "outputs": [],
   "source": [
    "import gurobi as gb\n",
    "from gurobipy import GRB\n",
    "\n",
    "import networkx as nx\n",
    "import numpy as np\n",
    "import math"
   ]
  },
  {
   "cell_type": "code",
   "execution_count": 42,
   "id": "5db0c6c1",
   "metadata": {},
   "outputs": [],
   "source": [
    "# Upper-bound network cost for uniform demand\n",
    "\n",
    "def calc_uniformD_optimalCost(k):\n",
    "    result = 0\n",
    "    previousLevelVertices = 1\n",
    "    n = 2**k\n",
    "    nodesVisited = 1\n",
    "    for i in range(k-1):\n",
    "        if nodesVisited + (previousLevelVertices*(k+1-i)) >= n-1:\n",
    "            result += (((i+1)*(n-1-nodesVisited)/((2**k)-1)))\n",
    "            break\n",
    "        result += (((i+1)*previousLevelVertices*(k+1-i))/((2**k)-1))\n",
    "        previousLevelVertices *= k-i\n",
    "        nodesVisited += previousLevelVertices\n",
    "    return(2**k * result)"
   ]
  },
  {
   "cell_type": "code",
   "execution_count": 45,
   "id": "434053af",
   "metadata": {},
   "outputs": [
    {
     "name": "stdout",
     "output_type": "stream",
     "text": [
      "3 11.428571428571427\n",
      "4 26.666666666666664\n",
      "5 57.806451612903224\n",
      "6 159.4920634920635\n",
      "7 339.65354330708664\n",
      "8 709.7725490196078\n",
      "9 1461.8551859099803\n",
      "10 3452.3714565004884\n",
      "11 7297.563263312164\n",
      "12 15180.706227106228\n",
      "13 31191.807593700403\n",
      "14 63516.87676249771\n",
      "15 128533.92254402295\n",
      "16 290683.4354772259\n",
      "17 606361.6261720747\n",
      "18 1247031.7570486339\n",
      "19 2540001.844669046\n",
      "20 5140235.90211096\n",
      "21 10358033.939095467\n",
      "22 22541130.374224275\n",
      "23 46941373.5958478\n",
      "24 96339402.74227588\n",
      "25 195874911.83752728\n",
      "26 395850850.8986373\n",
      "27 796899129.9373612\n",
      "28 1600312146.9616272\n",
      "29 3474222685.4712443\n",
      "30 7158391221.666771\n",
      "31 14585328825.791822\n",
      "32 29510697273.870995\n",
      "33 59447976373.920654\n",
      "34 119426539949.95154\n",
      "35 239507827489.9706\n",
      "36 514832641920.4918\n",
      "37 1056150128487.6844\n",
      "38 2145538032560.8054\n",
      "39 4332481218485.881\n",
      "40 8716186659880.928\n",
      "41 17495336208283.957\n",
      "42 35067594997848.973\n",
      "43 74310339818529.45\n",
      "44 152363059400335.66\n",
      "45 309364274502369.8\n",
      "46 624443778050331.9\n",
      "47 1255891600081394.0\n",
      "48 2520322374785752.0\n",
      "49 5051004509642290.0\n"
     ]
    }
   ],
   "source": [
    "for i in range(3,50):\n",
    "    print(i,calc_uniformD_optimalCost(i))"
   ]
  },
  {
   "cell_type": "markdown",
   "id": "d675b101",
   "metadata": {},
   "source": []
  }
 ],
 "metadata": {
  "kernelspec": {
   "display_name": "Python 3 (ipykernel)",
   "language": "python",
   "name": "python3"
  },
  "language_info": {
   "codemirror_mode": {
    "name": "ipython",
    "version": 3
   },
   "file_extension": ".py",
   "mimetype": "text/x-python",
   "name": "python",
   "nbconvert_exporter": "python",
   "pygments_lexer": "ipython3",
   "version": "3.9.12"
  }
 },
 "nbformat": 4,
 "nbformat_minor": 5
}

{
 "cells": [
  {
   "cell_type": "code",
   "execution_count": 1,
   "metadata": {},
   "outputs": [],
   "source": [
    "import gurobi as gb\n",
    "from gurobipy import GRB\n",
    "\n",
    "import networkx as nx\n",
    "import numpy as np\n",
    "import math"
   ]
  },
  {
   "cell_type": "markdown",
   "metadata": {},
   "source": [
    "# Network model"
   ]
  },
  {
   "cell_type": "code",
   "execution_count": 2,
   "metadata": {},
   "outputs": [],
   "source": [
    "def init_ring(n):\n",
    "    \"\"\"Initializes a graph in ring structure with n nodes\n",
    "    \n",
    "    Args: \n",
    "        n (int): number of nodes\n",
    "    \n",
    "    Returns:\n",
    "        G (networkx.classes.graph.Graph): Graph in ring structure\n",
    "    \"\"\"\n",
    "    G = nx.Graph()\n",
    "    for i in range(n): G.add_node(i)\n",
    "    for i in range(n-1): G.add_edge(i,i+1)\n",
    "    G.add_edge(0,n-1)\n",
    "    pos = nx.circular_layout(G)\n",
    "    nx.draw_networkx(G,pos=pos,with_labels=True)\n",
    "    return(G)\n",
    "\n",
    "def init_uniformDemand_matrix(G):\n",
    "    \"\"\"Returns a demand matrix, where each peer pair has the same demand in %\n",
    "    \n",
    "    Args:\n",
    "        G (networkx.classes.graph.Graph): \n",
    "        \n",
    "    Returns:\n",
    "        D (numpy.ndarray): matrix with unformly distributed demands for all node pairs\n",
    "    \n",
    "    \"\"\"\n",
    "    nodesList = G.nodes\n",
    "    uniformTraffic = round(1/(len(nodesList)*(len(nodesList)-1)),8)\n",
    "    D = np.full((len(nodesList),len(nodesList)),uniformTraffic)\n",
    "    for i in range(len(nodesList)):\n",
    "        D[i][i] = 0\n",
    "    return D\n",
    "\n",
    "def calc_cost(G,D):\n",
    "    \"\"\"Returns the cost of traffic on a graph\n",
    "    \n",
    "    Args:\n",
    "        G (networkx.classes.graph.Graph): network graph\n",
    "        D (numpy.ndarray): Demand Graph\n",
    "    Returns:\n",
    "        cost (numpy.ndarray): cost of total traffic between nodes of G\n",
    "    \"\"\"\n",
    "    nodesList = list(G.nodes)\n",
    "    allShortestPath = nx.shortest_path(G)\n",
    "    allShortestPathCost = [(len(allShortestPath[i][j])-1)*D[i][j]\n",
    "                             for i in nodesList for j in nodesList if i!=j]\n",
    "    return sum(allShortestPathCost)\n",
    "\n",
    "def SP_edgeList(G,s,t):\n",
    "    \"\"\"\n",
    "    Returns: Shortest Path as list of edge pairs\n",
    "    \"\"\"\n",
    "    allShortestPath = nx.shortest_path(G)\n",
    "    pathEdgeList = []\n",
    "    for i in range(len(allShortestPath[s][t])-1):\n",
    "        pathEdgeList.append((i,allShortestPath[s][t][i+1]))\n",
    "    return pathEdgeList\n",
    "\n",
    "def complete_node_pair_list(G):\n",
    "    \"\"\"\n",
    "    Returns: list of all possible outgoin node pairings. One row per node at row index\n",
    "    \"\"\"\n",
    "    nodePairList =[]\n",
    "    nodes = G.nodes\n",
    "    for i in G.nodes:\n",
    "        nodePairList.append([])\n",
    "        for j in G.nodes:\n",
    "            nodePairList[i].append((i,j))\n",
    "    return nodePairList\n",
    "\n",
    "def complete_node_pair_list_noDuplication(G):\n",
    "    \"\"\"\n",
    "    Returns: list of all possible node pairings without duplication\n",
    "    \"\"\"\n",
    "    nodePairList =[]\n",
    "    nodes = G.nodes\n",
    "    for i in G.nodes:\n",
    "        for j in range(i,len(G.nodes)):\n",
    "            nodePairList.append((i,j))\n",
    "    return nodePairList"
   ]
  },
  {
   "cell_type": "markdown",
   "metadata": {},
   "source": [
    "# Gurobi Optimization\n",
    "Implementation of the LP, which Arash proposed on 6. June 2022"
   ]
  },
  {
   "cell_type": "code",
   "execution_count": 3,
   "metadata": {},
   "outputs": [
    {
     "name": "stdout",
     "output_type": "stream",
     "text": [
      "Set parameter Username\n",
      "Academic license - for non-commercial use only - expires 2023-06-02\n"
     ]
    }
   ],
   "source": [
    "opt_mod = gb.Model(name=\"linear programm\")"
   ]
  },
  {
   "cell_type": "markdown",
   "metadata": {},
   "source": [
    "## Setup Network Parameters"
   ]
  },
  {
   "cell_type": "code",
   "execution_count": 4,
   "metadata": {},
   "outputs": [
    {
     "name": "stderr",
     "output_type": "stream",
     "text": [
      "/tmp/ipykernel_22400/1601837423.py:5: FutureWarning: adjacency_matrix will return a scipy.sparse array instead of a matrix in Networkx 3.0.\n",
      "  A = nx.adjacency_matrix(G)\n"
     ]
    },
    {
     "data": {
      "image/png": "[encoded data removed]",
      "text/plain": [
       "<Figure size 432x288 with 1 Axes>"
      ]
     },
     "metadata": {},
     "output_type": "display_data"
    }
   ],
   "source": [
    "k = 3\n",
    "G = init_ring(2**k)\n",
    "D = init_uniformDemand_matrix(G)\n",
    "adjM = np.full((2**k,2**k),0)\n",
    "A = nx.adjacency_matrix(G)\n",
    "allShortestPath = nx.shortest_path(G)\n",
    "nodesPairList = gb.tuplelist(complete_node_pair_list(G))"
   ]
  },
  {
   "cell_type": "markdown",
   "metadata": {},
   "source": [
    "## Setting variables"
   ]
  },
  {
   "cell_type": "code",
   "execution_count": 5,
   "metadata": {},
   "outputs": [],
   "source": [
    "n = len(G.nodes)\n",
    "edges = gb.tuplelist(G.edges)\n",
    "nodesPairList = gb.tuplelist(complete_node_pair_list(G))\n",
    "allShortestPath = nx.shortest_path(G)\n",
    "\n",
    "# Edges/Links gb.var definition and constraints\n",
    "e = []\n",
    "for i in G.nodes:\n",
    "    e.append([])\n",
    "    for j in G.nodes:\n",
    "        e[i].append(opt_mod.addVar(name=f\"e_{i,j}\", vtype=GRB.BINARY))\n",
    "opt_mod.update() \n",
    "\n",
    "#distance, x, y, flow\n",
    "dist = []\n",
    "x = []\n",
    "flow = []\n",
    "for i in G.nodes:\n",
    "    dist.append([])\n",
    "    x.append([])\n",
    "    for j in G.nodes:\n",
    "        dist[i].append(opt_mod.addVar(name=f\"dist_{i,j}\", vtype=\"I\", lb=0, ub=GRB.INFINITY))\n",
    "        x[i].append([])\n",
    "        for u in G.nodes:\n",
    "            x[i][j].append([])\n",
    "            for v in G.nodes:\n",
    "                x[i][j][u].append(opt_mod.addVar(name=f\"x_{i,j}_{u,v}\", vtype=\"B\"))  \n",
    "x = np.array(x)\n",
    "opt_mod.update() "
   ]
  },
  {
   "cell_type": "markdown",
   "metadata": {},
   "source": [
    "## Adding constraints"
   ]
  },
  {
   "cell_type": "code",
   "execution_count": 6,
   "metadata": {},
   "outputs": [],
   "source": [
    "# Adjacency Matrix (e) Constraints\n",
    "maxAllowedEperNode = math.log(2**k,2) + 2\n",
    "for i in G.nodes:\n",
    "    opt_mod.addConstr(e[i][(i+1) % len(G.nodes)] == 1, name=\"c-ring\")\n",
    "    opt_mod.addConstr(e[i][i] == 0, name=\"c-noSelfEdge\")\n",
    "    opt_mod.addConstr(sum(e[i][j] for (i,j) in nodesPairList[i])\n",
    "                  <= maxAllowedEperNode, name=\"c-logE\")\n",
    "    for j in G.nodes:\n",
    "        opt_mod.addConstr(e[i][j] == e[j][i], name=\"c-undirected\")\n",
    "        \n",
    "        \n",
    "# Distance Matrix (dist) Constraints. dist[i][j]:= SP-length between i and j\n",
    "for i in G.nodes:\n",
    "    #opt_mod.addConstr(dist[i][i] == 0, name=\"c-dist-self\")\n",
    "    #opt_mod.addConstr(dist[i][(i+1) % len(G.nodes)] == 1, name=\"c-dist-ring\")\n",
    "    for j in G.nodes:\n",
    "        opt_mod.addConstr(dist[i][j] == sum(a for b in x[i][j] for a in b), name=\"c-subpath0\")\n",
    "        opt_mod.addConstr(dist[i][j] >= e[i][j], name=\"c-dist1\")\n",
    "        for u in G.nodes:\n",
    "            opt_mod.addConstr(dist[i][j] <= dist[i][u] + dist[u][j] , name=\"c-dist2\")\n",
    "            for v in G.nodes:\n",
    "                opt_mod.addConstr(x[i][j][u][v] <= e[u][v], name=\"c-dist<e\")#1\n",
    "\n",
    "\n",
    "\n",
    "# Ensuring that x shows a correct path\n",
    "for i in G.nodes:\n",
    "    for j in G.nodes:\n",
    "        opt_mod.addConstr(x[i][j][i][i] == 0, name=\"c-noSelfE\")\n",
    "        if i != j:\n",
    "            \n",
    "            opt_mod.addConstr(sum(x[i][j][i]) == 1, name=\"c-flowStart\")\n",
    "            opt_mod.addConstr(sum(x[i][j][u][j] for u in G.nodes) == 1, name=\"c-flowEnd\")\n",
    "            for v in G.nodes:\n",
    "                if v != j:\n",
    "                    opt_mod.addConstr((sum([x[i][j][u][v] for u in G.nodes])\n",
    "                                - sum([x[i][j][v][u] for u in G.nodes])) == 0, name=\"blue0\")\n",
    "                for u in G.nodes:   \n",
    "                    opt_mod.addConstr(x[i][j][u][v] <= e[u][v], name=\"flow0\")"
   ]
  },
  {
   "cell_type": "code",
   "execution_count": 7,
   "metadata": {},
   "outputs": [],
   "source": [
    "#opt_mod.addConstr(sum(x[i][j][i]) == 1, name=\"flow0\")\n",
    "#opt_mod.addConstr(sum(x[i][j][i]) == 1, name=\"flow0\")"
   ]
  },
  {
   "cell_type": "markdown",
   "metadata": {},
   "source": [
    "## Objective"
   ]
  },
  {
   "cell_type": "code",
   "execution_count": 8,
   "metadata": {},
   "outputs": [
    {
     "name": "stdout",
     "output_type": "stream",
     "text": [
      "Gurobi Optimizer version 9.5.1 build v9.5.1rc2 (linux64)\n",
      "Thread count: 6 physical cores, 12 logical processors, using up to 12 threads\n",
      "Optimize a model with 8976 rows, 4224 columns and 27584 nonzeros\n",
      "Model fingerprint: 0x258e7a48\n",
      "Variable types: 0 continuous, 4224 integer (4160 binary)\n",
      "Coefficient statistics:\n",
      "  Matrix range     [1e+00, 1e+00]\n",
      "  Objective range  [2e-02, 2e-02]\n",
      "  Bounds range     [1e+00, 1e+00]\n",
      "  RHS range        [1e+00, 5e+00]\n",
      "Presolve removed 5832 rows and 1028 columns\n",
      "Presolve time: 0.04s\n",
      "Presolved: 3144 rows, 3196 columns, 13800 nonzeros\n",
      "Variable types: 0 continuous, 3196 integer (3140 binary)\n",
      "Found heuristic solution: objective 1.4999998\n",
      "\n",
      "Root relaxation: objective 1.285714e+00, 600 iterations, 0.01 seconds (0.01 work units)\n",
      "\n",
      "    Nodes    |    Current Node    |     Objective Bounds      |     Work\n",
      " Expl Unexpl |  Obj  Depth IntInf | Incumbent    BestBd   Gap | It/Node Time\n",
      "\n",
      "*    0     0               0       1.2857141    1.28571  0.00%     -    0s\n",
      "\n",
      "Explored 1 nodes (600 simplex iterations) in 0.07 seconds (0.07 work units)\n",
      "Thread count was 12 (of 12 available processors)\n",
      "\n",
      "Solution count 2: 1.28571 1.5 \n",
      "\n",
      "Optimal solution found (tolerance 1.00e-04)\n",
      "Best objective 1.285714080000e+00, best bound 1.285714080000e+00, gap 0.0000%\n"
     ]
    }
   ],
   "source": [
    "#print(len(x[0,1,x,y]))\n",
    "nodesPairListNoDuplication = complete_node_pair_list_noDuplication(G)\n",
    "opt_mod.setObjective(sum([dist[i][j]*D[i][j] for (i,j) in nodesPairListNoDuplication]), GRB.MINIMIZE)\n",
    "opt_mod.update()\n",
    "\n",
    "\n",
    "# Run\n",
    "#opt_mod.display()\n",
    "opt_mod.optimize()"
   ]
  },
  {
   "cell_type": "code",
   "execution_count": 9,
   "metadata": {},
   "outputs": [
    {
     "data": {
      "text/plain": [
       "\"if opt_mod.status == GRB.Status.OPTIMAL:\\n    print('Obj Function:', opt_mod.objVal)\\n    for v in opt_mod.getVars():\\n        print(v.varName, v.x)       \\nelse:\\n    print(opt_mod.status)\""
      ]
     },
     "execution_count": 9,
     "metadata": {},
     "output_type": "execute_result"
    }
   ],
   "source": [
    "\"\"\"if opt_mod.status == GRB.Status.OPTIMAL:\n",
    "    print('Obj Function:', opt_mod.objVal)\n",
    "    for v in opt_mod.getVars():\n",
    "        print(v.varName, v.x)       \n",
    "else:\n",
    "    print(opt_mod.status)\"\"\""
   ]
  },
  {
   "cell_type": "markdown",
   "metadata": {},
   "source": [
    "# Putting it back into a graph"
   ]
  },
  {
   "cell_type": "code",
   "execution_count": 10,
   "metadata": {},
   "outputs": [],
   "source": [
    "G_sol = nx.Graph()\n",
    "for i in range(n): \n",
    "    G_sol.add_node(i)\n",
    "\n",
    "for i in G_sol.nodes:\n",
    "    for j in range(i,len(G_sol.nodes)):\n",
    "        if e[i][j].X == 1.0:\n",
    "            G_sol.add_edge(i,j)\n"
   ]
  },
  {
   "cell_type": "code",
   "execution_count": 11,
   "metadata": {},
   "outputs": [
    {
     "data": {
      "image/png": "[encoded data removed]",
      "text/plain": [
       "<Figure size 432x288 with 1 Axes>"
      ]
     },
     "metadata": {},
     "output_type": "display_data"
    }
   ],
   "source": [
    "pos = nx.circular_layout(G_sol)\n",
    "nx.draw_networkx(G_sol,pos=pos,with_labels=True)"
   ]
  },
  {
   "cell_type": "code",
   "execution_count": 12,
   "metadata": {},
   "outputs": [
    {
     "name": "stdout",
     "output_type": "stream",
     "text": [
      "5.0\n",
      "1.2857140800000013\n",
      "[[<gurobi.Var x_(0, 5)_(0, 0) (value 0.0)>\n",
      "  <gurobi.Var x_(0, 5)_(0, 1) (value 1.0)>\n",
      "  <gurobi.Var x_(0, 5)_(0, 2) (value -0.0)>\n",
      "  <gurobi.Var x_(0, 5)_(0, 3) (value -0.0)>\n",
      "  <gurobi.Var x_(0, 5)_(0, 4) (value -0.0)>\n",
      "  <gurobi.Var x_(0, 5)_(0, 5) (value 0.0)>\n",
      "  <gurobi.Var x_(0, 5)_(0, 6) (value -0.0)>\n",
      "  <gurobi.Var x_(0, 5)_(0, 7) (value -0.0)>]\n",
      " [<gurobi.Var x_(0, 5)_(1, 0) (value 1.0)>\n",
      "  <gurobi.Var x_(0, 5)_(1, 1) (value 0.0)>\n",
      "  <gurobi.Var x_(0, 5)_(1, 2) (value -0.0)>\n",
      "  <gurobi.Var x_(0, 5)_(1, 3) (value -0.0)>\n",
      "  <gurobi.Var x_(0, 5)_(1, 4) (value -0.0)>\n",
      "  <gurobi.Var x_(0, 5)_(1, 5) (value 0.0)>\n",
      "  <gurobi.Var x_(0, 5)_(1, 6) (value -0.0)>\n",
      "  <gurobi.Var x_(0, 5)_(1, 7) (value -0.0)>]\n",
      " [<gurobi.Var x_(0, 5)_(2, 0) (value -0.0)>\n",
      "  <gurobi.Var x_(0, 5)_(2, 1) (value -0.0)>\n",
      "  <gurobi.Var x_(0, 5)_(2, 2) (value 0.0)>\n",
      "  <gurobi.Var x_(0, 5)_(2, 3) (value -0.0)>\n",
      "  <gurobi.Var x_(0, 5)_(2, 4) (value -0.0)>\n",
      "  <gurobi.Var x_(0, 5)_(2, 5) (value 0.0)>\n",
      "  <gurobi.Var x_(0, 5)_(2, 6) (value -0.0)>\n",
      "  <gurobi.Var x_(0, 5)_(2, 7) (value -0.0)>]\n",
      " [<gurobi.Var x_(0, 5)_(3, 0) (value 0.0)>\n",
      "  <gurobi.Var x_(0, 5)_(3, 1) (value -0.0)>\n",
      "  <gurobi.Var x_(0, 5)_(3, 2) (value -0.0)>\n",
      "  <gurobi.Var x_(0, 5)_(3, 3) (value 0.0)>\n",
      "  <gurobi.Var x_(0, 5)_(3, 4) (value -0.0)>\n",
      "  <gurobi.Var x_(0, 5)_(3, 5) (value -0.0)>\n",
      "  <gurobi.Var x_(0, 5)_(3, 6) (value -0.0)>\n",
      "  <gurobi.Var x_(0, 5)_(3, 7) (value -0.0)>]\n",
      " [<gurobi.Var x_(0, 5)_(4, 0) (value -0.0)>\n",
      "  <gurobi.Var x_(0, 5)_(4, 1) (value -0.0)>\n",
      "  <gurobi.Var x_(0, 5)_(4, 2) (value -0.0)>\n",
      "  <gurobi.Var x_(0, 5)_(4, 3) (value -0.0)>\n",
      "  <gurobi.Var x_(0, 5)_(4, 4) (value 0.0)>\n",
      "  <gurobi.Var x_(0, 5)_(4, 5) (value 1.0)>\n",
      "  <gurobi.Var x_(0, 5)_(4, 6) (value -0.0)>\n",
      "  <gurobi.Var x_(0, 5)_(4, 7) (value -0.0)>]\n",
      " [<gurobi.Var x_(0, 5)_(5, 0) (value 0.0)>\n",
      "  <gurobi.Var x_(0, 5)_(5, 1) (value -0.0)>\n",
      "  <gurobi.Var x_(0, 5)_(5, 2) (value -0.0)>\n",
      "  <gurobi.Var x_(0, 5)_(5, 3) (value -0.0)>\n",
      "  <gurobi.Var x_(0, 5)_(5, 4) (value 1.0)>\n",
      "  <gurobi.Var x_(0, 5)_(5, 5) (value 0.0)>\n",
      "  <gurobi.Var x_(0, 5)_(5, 6) (value -0.0)>\n",
      "  <gurobi.Var x_(0, 5)_(5, 7) (value -0.0)>]\n",
      " [<gurobi.Var x_(0, 5)_(6, 0) (value -0.0)>\n",
      "  <gurobi.Var x_(0, 5)_(6, 1) (value -0.0)>\n",
      "  <gurobi.Var x_(0, 5)_(6, 2) (value -0.0)>\n",
      "  <gurobi.Var x_(0, 5)_(6, 3) (value -0.0)>\n",
      "  <gurobi.Var x_(0, 5)_(6, 4) (value -0.0)>\n",
      "  <gurobi.Var x_(0, 5)_(6, 5) (value 0.0)>\n",
      "  <gurobi.Var x_(0, 5)_(6, 6) (value 0.0)>\n",
      "  <gurobi.Var x_(0, 5)_(6, 7) (value -0.0)>]\n",
      " [<gurobi.Var x_(0, 5)_(7, 0) (value -0.0)>\n",
      "  <gurobi.Var x_(0, 5)_(7, 1) (value -0.0)>\n",
      "  <gurobi.Var x_(0, 5)_(7, 2) (value -0.0)>\n",
      "  <gurobi.Var x_(0, 5)_(7, 3) (value -0.0)>\n",
      "  <gurobi.Var x_(0, 5)_(7, 4) (value -0.0)>\n",
      "  <gurobi.Var x_(0, 5)_(7, 5) (value 0.0)>\n",
      "  <gurobi.Var x_(0, 5)_(7, 6) (value -0.0)>\n",
      "  <gurobi.Var x_(0, 5)_(7, 7) (value 0.0)>]]\n"
     ]
    }
   ],
   "source": [
    "print(maxAllowedEperNode)\n",
    "print(calc_cost(G_sol,D))\n",
    "print(x[0][5])"
   ]
  },
  {
   "cell_type": "code",
   "execution_count": null,
   "metadata": {},
   "outputs": [],
   "source": []
  },
  {
   "cell_type": "code",
   "execution_count": null,
   "metadata": {},
   "outputs": [],
   "source": []
  },
  {
   "cell_type": "code",
   "execution_count": null,
   "metadata": {},
   "outputs": [],
   "source": []
  },
  {
   "cell_type": "code",
   "execution_count": null,
   "metadata": {},
   "outputs": [],
   "source": []
  },
  {
   "cell_type": "code",
   "execution_count": null,
   "metadata": {},
   "outputs": [],
   "source": []
  },
  {
   "cell_type": "code",
   "execution_count": null,
   "metadata": {},
   "outputs": [],
   "source": []
  },
  {
   "cell_type": "code",
   "execution_count": null,
   "metadata": {},
   "outputs": [],
   "source": []
  },
  {
   "cell_type": "code",
   "execution_count": null,
   "metadata": {},
   "outputs": [],
   "source": []
  },
  {
   "cell_type": "code",
   "execution_count": null,
   "metadata": {},
   "outputs": [],
   "source": []
  },
  {
   "cell_type": "code",
   "execution_count": null,
   "metadata": {},
   "outputs": [],
   "source": []
  }
 ],
 "metadata": {
  "interpreter": {
   "hash": "916dbcbb3f70747c44a77c7bcd40155683ae19c65e1c03b4aa3499c5328201f1"
  },
  "kernelspec": {
   "display_name": "Python 3 (ipykernel)",
   "language": "python",
   "name": "python3"
  },
  "language_info": {
   "codemirror_mode": {
    "name": "ipython",
    "version": 3
   },
   "file_extension": ".py",
   "mimetype": "text/x-python",
   "name": "python",
   "nbconvert_exporter": "python",
   "pygments_lexer": "ipython3",
   "version": "3.9.12"
  }
 },
 "nbformat": 4,
 "nbformat_minor": 2
}

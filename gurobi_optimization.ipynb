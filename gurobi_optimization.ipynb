{
 "cells": [
  {
   "cell_type": "code",
   "execution_count": 56,
   "metadata": {},
   "outputs": [],
   "source": [
    "import gurobi as gb\n",
    "from gurobipy import GRB\n",
    "\n",
    "import networkx as nx\n",
    "import numpy as np\n",
    "import math"
   ]
  },
  {
   "cell_type": "markdown",
   "metadata": {},
   "source": [
    "# Network model"
   ]
  },
  {
   "cell_type": "code",
   "execution_count": 319,
   "metadata": {},
   "outputs": [],
   "source": [
    "def init_ring(n):\n",
    "    \"\"\"Initializes a graph in ring structure with n nodes\n",
    "    \n",
    "    Args: \n",
    "        n (int): number of nodes\n",
    "    \n",
    "    Returns:\n",
    "        G (networkx.classes.graph.Graph): Graph in ring structure\n",
    "    \"\"\"\n",
    "    G = nx.Graph()\n",
    "    for i in range(n): G.add_node(i)\n",
    "    for i in range(n-1): G.add_edge(i,i+1)\n",
    "    G.add_edge(0,n-1)\n",
    "    pos = nx.circular_layout(G)\n",
    "    nx.draw_networkx(G,pos=pos,with_labels=True)\n",
    "    return(G)\n",
    "\n",
    "def init_uniformDemand_matrix(G):\n",
    "    \"\"\"Returns a demand matrix, where each peer pair has the same demand in %\n",
    "    \n",
    "    Args:\n",
    "        G (networkx.classes.graph.Graph): \n",
    "        \n",
    "    Returns:\n",
    "        D (numpy.ndarray): matrix with unformly distributed demands for all node pairs\n",
    "    \n",
    "    \"\"\"\n",
    "    nodesList = G.nodes\n",
    "    uniformTraffic = round(1/(len(nodesList)*(len(nodesList)-1)),8)\n",
    "    D = np.full((len(nodesList),len(nodesList)),uniformTraffic)\n",
    "    for i in range(len(nodesList)):\n",
    "        D[i][i] = 0\n",
    "    return D\n",
    "\n",
    "def calc_cost(G,D):\n",
    "    \"\"\"Returns the cost of traffic on a graph\n",
    "    \n",
    "    Args:\n",
    "        G (networkx.classes.graph.Graph): network graph\n",
    "        D (numpy.ndarray): Demand Graph\n",
    "    Returns:\n",
    "        cost (numpy.ndarray): cost of total traffic between nodes of G\n",
    "    \"\"\"\n",
    "    nodesList = list(G.nodes)\n",
    "    allShortestPath = nx.shortest_path(G)\n",
    "    allShortestPathCost = [(len(allShortestPath[i][j])-1)*D[i][j]\n",
    "                             for i in nodesList for j in nodesList if i!=j]\n",
    "    return sum(allShortestPathCost)\n",
    "\n",
    "def SP_edgeList(G,s,t):\n",
    "    \"\"\"\n",
    "    Returns: Shortest Path as list of edge pairs\n",
    "    \"\"\"\n",
    "    allShortestPath = nx.shortest_path(G)\n",
    "    pathEdgeList = []\n",
    "    for i in range(len(allShortestPath[s][t])-1):\n",
    "        pathEdgeList.append((i,allShortestPath[s][t][i+1]))\n",
    "    return pathEdgeList\n",
    "\n",
    "def complete_node_pair_list(G):\n",
    "    \"\"\"\n",
    "    Returns: list of all possible node pairings without duplication\n",
    "    \"\"\"\n",
    "    nodePairList =[]\n",
    "    nodes = G.nodes\n",
    "    for i in G.nodes:\n",
    "        nodePairList.append((i,i))\n",
    "        for j in range(i+1,len(nodes)):\n",
    "            nodePairList.append((i,j))\n",
    "    return nodePairList"
   ]
  },
  {
   "cell_type": "markdown",
   "metadata": {},
   "source": [
    "# Testing"
   ]
  },
  {
   "cell_type": "code",
   "execution_count": 320,
   "metadata": {},
   "outputs": [
    {
     "name": "stdout",
     "output_type": "stream",
     "text": [
      "[(0, 0), (0, 1), (0, 2), (0, 3), (0, 4), (0, 5), (0, 6), (0, 7), (1, 1), (1, 2), (1, 3), (1, 4), (1, 5), (1, 6), (1, 7), (2, 2), (2, 3), (2, 4), (2, 5), (2, 6), (2, 7), (3, 3), (3, 4), (3, 5), (3, 6), (3, 7), (4, 4), (4, 5), (4, 6), (4, 7), (5, 5), (5, 6), (5, 7), (6, 6), (6, 7), (7, 7)]\n"
     ]
    },
    {
     "data": {
      "image/png": "[encoded data removed]",
      "text/plain": [
       "<Figure size 432x288 with 1 Axes>"
      ]
     },
     "metadata": {},
     "output_type": "display_data"
    }
   ],
   "source": [
    "k = 3\n",
    "G = init_ring(2**k)\n",
    "D = init_uniformDemand_matrix(G)\n",
    "calc_cost(G,D)\n",
    "print(complete_node_pair_list(G))"
   ]
  },
  {
   "cell_type": "markdown",
   "metadata": {},
   "source": [
    "# Gurobi Optimization\n",
    "Implementation of the LP, which Arash proposed on 6. June 2022"
   ]
  },
  {
   "cell_type": "code",
   "execution_count": 74,
   "metadata": {},
   "outputs": [],
   "source": [
    "opt_mod = gb.Model(name=\"linear programm\")"
   ]
  },
  {
   "cell_type": "markdown",
   "metadata": {},
   "source": [
    "## Setup Network Parameters"
   ]
  },
  {
   "cell_type": "code",
   "execution_count": 328,
   "metadata": {},
   "outputs": [
    {
     "name": "stdout",
     "output_type": "stream",
     "text": [
      "4\n",
      "[0, 1, 2, 3]\n"
     ]
    },
    {
     "name": "stderr",
     "output_type": "stream",
     "text": [
      "/tmp/ipykernel_37210/2786941678.py:7: FutureWarning: adjacency_matrix will return a scipy.sparse array instead of a matrix in Networkx 3.0.\n",
      "  A = nx.adjacency_matrix(G)\n"
     ]
    },
    {
     "data": {
      "image/png": "[encoded data removed]",
      "text/plain": [
       "<Figure size 432x288 with 1 Axes>"
      ]
     },
     "metadata": {},
     "output_type": "display_data"
    }
   ],
   "source": [
    "k = 2\n",
    "G = init_ring(2**k)\n",
    "D = init_uniformDemand_matrix(G)\n",
    "#calc_cost(G,D)\n",
    "# Setup binary adjacency matrix, i.e. unweighted\n",
    "adjM = np.full((2**k,2**k),0)\n",
    "A = nx.adjacency_matrix(G)\n",
    "print(len(G.nodes))\n",
    "allShortestPath = nx.shortest_path(G)\n",
    "print(list(G.nodes))"
   ]
  },
  {
   "cell_type": "markdown",
   "metadata": {},
   "source": [
    "## Setting variables"
   ]
  },
  {
   "cell_type": "code",
   "execution_count": null,
   "metadata": {},
   "outputs": [],
   "source": [
    "maxAllowedEperNode = math.log(2**k,2) + 2\n",
    "allShortestPath = nx.shortest_path(G)\n",
    "\n",
    "edges = gb.tuplelist(G.edges)\n",
    "nodesPairList = gb.tuplelist(complete_node_pair_list(G))\n",
    "\n",
    "# Edges/Links gb.var definition and constraints\n",
    "e = gb.tupledict()\n",
    "for i in G.nodes:\n",
    "    for j in G.nodes:\n",
    "#        if i!=j:\n",
    "        e[i,j] = opt_mod.addVar(name=f\"e_{i,j}\", vtype=GRB.INTEGER, lb=0, ub=1, name = \"c0\")\n",
    "        e[j,i] = opt_mod.addVar(name=f\"e_{j,i}\", vtype=GRB.INTEGER, lb=0, ub=1)\n",
    "    opt_mod.addConstr(e[i,((i+1) % len(G.nodes))] == 1)\n",
    "    opt_mod.addConstr(sum(e[i,j] for i,j in nodesPairList.select(i, '*')) <= maxAllowedEperNode)\n",
    "opt_mod.update()\n",
    "\n",
    "# x := edges in SP\n",
    "# distance :=  #x aka shortest path length\n",
    "x = gb.tupledict()\n",
    "distance = gb.tupledict()\n",
    "for i in G.nodes:\n",
    "    for j in G.nodes:\n",
    "        # Distance Variable\n",
    "#        if i!=j:\n",
    "        distance[i,j] = opt_mod.addVar(name=f\"dist_{i,j}\", vtype=GRB.INTEGER, lb=0, ub=GRB.INFINITY)\n",
    "        opt_mod.addConstr(distance[i,j] >= e[i,j])\n",
    "        for u in G.nodes:\n",
    "            for v in G.nodes:\n",
    "                x[i,j,u,v] = opt_mod.addVar(name=f\"x_{i,j}_{u,v}\", vtype=GRB.INTEGER, lb=0, ub=1)\n",
    "                #if (u != j) and (v != j) and (u != v):\n",
    "                opt_mod.addConstr(x[i,j,u,v] == (1 if (u,v) in SP_edgeList(G,i,j) else 0))\n",
    "                opt_mod.addConstr(x[i,j,u,v] <= e[u,v])\n",
    "                #opt_mod.addConstr(distance[i,j]==sum(x[i,j]))\n",
    "\n",
    "opt_mod.update()\n",
    "\n",
    "\n",
    "opt_mod.setObjective(sum(distance[i,j]*D[i][j] for i,j in nodesPairList.select(i,j)), GRB.MINIMIZE)\n",
    "opt_mod.update()\n",
    "opt_mod.display()\n",
    "#opt_mod.optimize()"
   ]
  },
  {
   "cell_type": "code",
   "execution_count": 323,
   "metadata": {},
   "outputs": [],
   "source": [
    "\n",
    "# edges in shortest path\n",
    "x = gb.tupledict()\n",
    "distance = gb.tupledict()\n",
    "for i in G.nodes:\n",
    "    #cycle constraint\n",
    "    \n",
    "    for j in G.nodes:\n",
    "        # Distance Variable\n",
    "        distance[i,j] = opt_mod.addVar(name=f\"dist_{i,j}\", vtype=GRB.INTEGER, lb=0, ub=GRB.INFINITY)\n",
    "        opt_mod.addConstr(distance[i,j] >= e[i,j], name='c2')\n",
    "        if (i,j) in e:\n",
    "            for m in range(len(allShortestPath[i][j])-1):\n",
    "                n = allShortestPath[i][j][m+1]\n",
    "                x[i,j,m,n] = opt_mod.addVar(name=f\"x_{i,j}_{m,n}\", vtype=GRB.BINARY)\n",
    "                opt_mod.addConstr(x[i,j,m,n] == 1, name='c1') \n",
    "                opt_mod.addConstr(x[i,j,m,n] <= e[i,j], name='c1') \n",
    "opt_mod.update()\n",
    "\n",
    "# Constraint on shortest paths\n",
    "for k in G.nodes:\n",
    "    opt_mod.addConstr(distance[i,j] <= distance[i,k] + distance[k,j], name='c3')\n",
    "\n",
    "\n",
    "# Total number of Edges\n",
    "sumE = opt_mod.addVar(name=\"sumE\", vtype=GRB.INTEGER, lb=0)\n",
    "\n",
    "\n",
    "# blue\n",
    "y = gb.tupledict()\n",
    "v = 0\n",
    "for i in G.nodes:\n",
    "    for j in G.nodes:\n",
    "        y[i,j,v] = opt_mod.addVar(name=f\"y_{i,j}_{v}\", vtype=GRB.CONTINUOUS, lb=0, ub=GRB.INFINITY)\n",
    "        opt_mod.addConstr(y[i,j,v] <= 1, name='c4')\n",
    "        opt_mod.addConstr(0 <= y[i,j,v], name='c5')"
   ]
  },
  {
   "cell_type": "code",
   "execution_count": null,
   "metadata": {},
   "outputs": [],
   "source": [
    "eList = e.tolist()\n",
    "opt_mod.update()\n",
    "for i in G.nodes:\n",
    "    for j in G.nodes:\n",
    "        if A[i,j]==1:\n",
    "            eList[i][j] = True\n",
    "        else: \n",
    "            eList[i][j] = False\n",
    "opt_mod.update()\n",
    "print(e)"
   ]
  },
  {
   "cell_type": "markdown",
   "metadata": {},
   "source": [
    "## Setting objective function"
   ]
  },
  {
   "cell_type": "code",
   "execution_count": 187,
   "metadata": {},
   "outputs": [],
   "source": [
    "opt_mod.setObjective(calc_cost(G,D), GRB.MINIMIZE)"
   ]
  },
  {
   "cell_type": "markdown",
   "metadata": {},
   "source": [
    "## Setting constraints"
   ]
  },
  {
   "cell_type": "code",
   "execution_count": 71,
   "metadata": {},
   "outputs": [
    {
     "ename": "TypeError",
     "evalue": "'MVar' object does not support item assignment",
     "output_type": "error",
     "traceback": [
      "\u001b[0;31m---------------------------------------------------------------------------\u001b[0m",
      "\u001b[0;31mTypeError\u001b[0m                                 Traceback (most recent call last)",
      "Input \u001b[0;32mIn [71]\u001b[0m, in \u001b[0;36m<cell line: 2>\u001b[0;34m()\u001b[0m\n\u001b[1;32m      2\u001b[0m \u001b[38;5;28;01mfor\u001b[39;00m i \u001b[38;5;129;01min\u001b[39;00m \u001b[38;5;28mlist\u001b[39m(G\u001b[38;5;241m.\u001b[39mnodes):\n\u001b[1;32m      3\u001b[0m     \u001b[38;5;28;01mfor\u001b[39;00m j \u001b[38;5;129;01min\u001b[39;00m \u001b[38;5;28mlist\u001b[39m(G\u001b[38;5;241m.\u001b[39mnodes):\n\u001b[0;32m----> 4\u001b[0m             e[i,j] \u001b[38;5;241m=\u001b[39m \u001b[38;5;241m1\u001b[39m\n\u001b[1;32m      5\u001b[0m \u001b[38;5;28mprint\u001b[39m(e)\n\u001b[1;32m      6\u001b[0m \u001b[38;5;66;03m#opt_mod.addConstr(e[i,j] = 1, name='c4')\u001b[39;00m\n\u001b[1;32m      7\u001b[0m \u001b[38;5;66;03m#opt_mod.addConstr(e[len(G.nodes)-1,0] = 1, name='c5')\u001b[39;00m\n\u001b[1;32m      8\u001b[0m \n\u001b[1;32m      9\u001b[0m \u001b[38;5;66;03m# Max log(n) + 2 edges per node\u001b[39;00m\n",
      "\u001b[0;31mTypeError\u001b[0m: 'MVar' object does not support item assignment"
     ]
    }
   ],
   "source": [
    "# Ring\n",
    "for i in list(G.nodes):\n",
    "    for j in list(G.nodes):\n",
    "            e[i,j] = 1\n",
    "print(e)\n",
    "#opt_mod.addConstr(e[i,j] = 1, name='c4')\n",
    "#opt_mod.addConstr(e[len(G.nodes)-1,0] = 1, name='c5')\n",
    "\n",
    "\n",
    "\n",
    "# distance constraints\n",
    "opt_mod.addConstr(distance >= 1, name='c1')\n",
    "opt_mod.addConstr(distance <= (distance[i,k]+distance[k,j]), name='c2')\n",
    "\n",
    "#opt_mod.addConstr(0 <= y[i,j]_v <= 1, name='c3')"
   ]
  },
  {
   "cell_type": "markdown",
   "metadata": {},
   "source": [
    "# Running"
   ]
  },
  {
   "cell_type": "code",
   "execution_count": 188,
   "metadata": {},
   "outputs": [
    {
     "name": "stdout",
     "output_type": "stream",
     "text": [
      "Gurobi Optimizer version 9.5.1 build v9.5.1rc2 (linux64)\n",
      "Thread count: 6 physical cores, 12 logical processors, using up to 12 threads\n",
      "Optimize a model with 3872 rows, 7197 columns and 5647 nonzeros\n",
      "Model fingerprint: 0xa785a0d7\n",
      "Variable types: 74 continuous, 7123 integer (6179 binary)\n",
      "Coefficient statistics:\n",
      "  Matrix range     [1e+00, 1e+00]\n",
      "  Objective range  [0e+00, 0e+00]\n",
      "  Bounds range     [1e+00, 1e+00]\n",
      "  RHS range        [1e+00, 1e+00]\n",
      "Presolve time: 0.00s\n",
      "\n",
      "Explored 0 nodes (0 simplex iterations) in 0.01 seconds (0.00 work units)\n",
      "Thread count was 1 (of 12 available processors)\n",
      "\n",
      "Solution count 0\n",
      "\n",
      "Model is infeasible\n",
      "Best objective -, best bound -, gap -\n"
     ]
    }
   ],
   "source": [
    "opt_mod.optimize()"
   ]
  },
  {
   "cell_type": "code",
   "execution_count": null,
   "metadata": {},
   "outputs": [],
   "source": []
  }
 ],
 "metadata": {
  "interpreter": {
   "hash": "916dbcbb3f70747c44a77c7bcd40155683ae19c65e1c03b4aa3499c5328201f1"
  },
  "kernelspec": {
   "display_name": "Python 3 (ipykernel)",
   "language": "python",
   "name": "python3"
  },
  "language_info": {
   "codemirror_mode": {
    "name": "ipython",
    "version": 3
   },
   "file_extension": ".py",
   "mimetype": "text/x-python",
   "name": "python",
   "nbconvert_exporter": "python",
   "pygments_lexer": "ipython3",
   "version": "3.9.12"
  }
 },
 "nbformat": 4,
 "nbformat_minor": 2
}

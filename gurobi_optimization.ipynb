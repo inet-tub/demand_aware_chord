{
 "cells": [
  {
   "cell_type": "code",
   "execution_count": 1,
   "metadata": {},
   "outputs": [],
   "source": [
    "import gurobi as gb\n",
    "from gurobipy import GRB\n",
    "\n",
    "import networkx as nx\n",
    "import numpy as np\n",
    "import math"
   ]
  },
  {
   "cell_type": "markdown",
   "metadata": {},
   "source": [
    "# Network model"
   ]
  },
  {
   "cell_type": "code",
   "execution_count": 2,
   "metadata": {},
   "outputs": [],
   "source": [
    "def init_ring(n):\n",
    "    \"\"\"Initializes a graph in ring structure with n nodes\n",
    "    \n",
    "    Args: \n",
    "        n (int): number of nodes\n",
    "    \n",
    "    Returns:\n",
    "        G (networkx.classes.graph.Graph): Graph in ring structure\n",
    "    \"\"\"\n",
    "    G = nx.Graph()\n",
    "    for i in range(n): G.add_node(i)\n",
    "    for i in range(n-1): G.add_edge(i,i+1)\n",
    "    G.add_edge(0,n-1)\n",
    "    pos = nx.circular_layout(G)\n",
    "    nx.draw_networkx(G,pos=pos,with_labels=True)\n",
    "    return(G)\n",
    "\n",
    "def init_uniformDemand_matrix(G):\n",
    "    \"\"\"Returns a demand matrix, where each peer pair has the same demand in %\n",
    "    \n",
    "    Args:\n",
    "        G (networkx.classes.graph.Graph): \n",
    "        \n",
    "    Returns:\n",
    "        D (numpy.ndarray): matrix with unformly distributed demands for all node pairs\n",
    "    \n",
    "    \"\"\"\n",
    "    nodesList = G.nodes\n",
    "    uniformTraffic = round(1/(len(nodesList)*(len(nodesList)-1)),8)\n",
    "    D = np.full((len(nodesList),len(nodesList)),uniformTraffic)\n",
    "    for i in range(len(nodesList)):\n",
    "        D[i][i] = 0\n",
    "    return D\n",
    "\n",
    "def calc_cost(G,D):\n",
    "    \"\"\"Returns the cost of traffic on a graph\n",
    "    \n",
    "    Args:\n",
    "        G (networkx.classes.graph.Graph): network graph\n",
    "        D (numpy.ndarray): Demand Graph\n",
    "    Returns:\n",
    "        cost (numpy.ndarray): cost of total traffic between nodes of G\n",
    "    \"\"\"\n",
    "    nodesList = list(G.nodes)\n",
    "    allShortestPath = nx.shortest_path(G)\n",
    "    allShortestPathCost = [(len(allShortestPath[i][j])-1)*D[i][j]\n",
    "                             for i in nodesList for j in nodesList if i!=j]\n",
    "    return sum(allShortestPathCost)\n",
    "\n",
    "def SP_edgeList(G,s,t):\n",
    "    \"\"\"\n",
    "    Returns: Shortest Path as list of edge pairs\n",
    "    \"\"\"\n",
    "    allShortestPath = nx.shortest_path(G)\n",
    "    pathEdgeList = []\n",
    "    for i in range(len(allShortestPath[s][t])-1):\n",
    "        pathEdgeList.append((i,allShortestPath[s][t][i+1]))\n",
    "    return pathEdgeList\n",
    "\n",
    "def complete_node_pair_list(G):\n",
    "    \"\"\"\n",
    "    Returns: list of all possible node pairings\n",
    "    \"\"\"\n",
    "    nodePairList =[]\n",
    "    nodes = G.nodes\n",
    "    for i in G.nodes:\n",
    "        nodePairList.append([])\n",
    "        for j in G.nodes:\n",
    "            nodePairList[i].append((i,j))\n",
    "    return nodePairList"
   ]
  },
  {
   "cell_type": "markdown",
   "metadata": {},
   "source": [
    "# Gurobi Optimization\n",
    "Implementation of the LP, which Arash proposed on 6. June 2022"
   ]
  },
  {
   "cell_type": "code",
   "execution_count": 3,
   "metadata": {},
   "outputs": [
    {
     "name": "stdout",
     "output_type": "stream",
     "text": [
      "Set parameter Username\n",
      "Academic license - for non-commercial use only - expires 2023-06-02\n"
     ]
    }
   ],
   "source": [
    "opt_mod = gb.Model(name=\"linear programm\")"
   ]
  },
  {
   "cell_type": "markdown",
   "metadata": {},
   "source": [
    "## Setup Network Parameters"
   ]
  },
  {
   "cell_type": "code",
   "execution_count": 4,
   "metadata": {},
   "outputs": [
    {
     "name": "stdout",
     "output_type": "stream",
     "text": [
      "8\n",
      "[0, 1, 2, 3, 4, 5, 6, 7]\n",
      "[[(0, 0), (0, 1), (0, 2), (0, 3), (0, 4), (0, 5), (0, 6), (0, 7)], [(1, 0), (1, 1), (1, 2), (1, 3), (1, 4), (1, 5), (1, 6), (1, 7)], [(2, 0), (2, 1), (2, 2), (2, 3), (2, 4), (2, 5), (2, 6), (2, 7)], [(3, 0), (3, 1), (3, 2), (3, 3), (3, 4), (3, 5), (3, 6), (3, 7)], [(4, 0), (4, 1), (4, 2), (4, 3), (4, 4), (4, 5), (4, 6), (4, 7)], [(5, 0), (5, 1), (5, 2), (5, 3), (5, 4), (5, 5), (5, 6), (5, 7)], [(6, 0), (6, 1), (6, 2), (6, 3), (6, 4), (6, 5), (6, 6), (6, 7)], [(7, 0), (7, 1), (7, 2), (7, 3), (7, 4), (7, 5), (7, 6), (7, 7)]]\n"
     ]
    },
    {
     "name": "stderr",
     "output_type": "stream",
     "text": [
      "/tmp/ipykernel_32212/459961200.py:5: FutureWarning: adjacency_matrix will return a scipy.sparse array instead of a matrix in Networkx 3.0.\n",
      "  A = nx.adjacency_matrix(G)\n"
     ]
    },
    {
     "data": {
      "image/png": "[encoded data removed]",
      "text/plain": [
       "<Figure size 432x288 with 1 Axes>"
      ]
     },
     "metadata": {},
     "output_type": "display_data"
    }
   ],
   "source": [
    "k = 3\n",
    "G = init_ring(2**k)\n",
    "D = init_uniformDemand_matrix(G)\n",
    "adjM = np.full((2**k,2**k),0)\n",
    "A = nx.adjacency_matrix(G)\n",
    "print(len(G.nodes))\n",
    "allShortestPath = nx.shortest_path(G)\n",
    "print(list(G.nodes))\n",
    "nodesPairList = gb.tuplelist(complete_node_pair_list(G))\n",
    "print(nodesPairList)"
   ]
  },
  {
   "cell_type": "markdown",
   "metadata": {},
   "source": [
    "## Setting variables"
   ]
  },
  {
   "cell_type": "code",
   "execution_count": 5,
   "metadata": {},
   "outputs": [
    {
     "data": {
      "text/plain": [
       "'n = len(G.nodes)\\nedges = gb.tuplelist(G.edges)\\nnodesPairList = gb.tuplelist(complete_node_pair_list(G))\\n\\nmaxAllowedEperNode = math.log(2**k,2) + 2\\nallShortestPath = nx.shortest_path(G)\\n\\n# Edges/Links gb.var definition and constraints\\ne = []\\ndistance = []\\nx = []\\nfor i in G.nodes:\\n    e.append([])\\n    distance.append([])\\n    x.append([])\\n    for j in G.nodes:\\n        e[i].append(opt_mod.addVar(name=f\"e_{i,j}\", vtype=GRB.BINARY))\\n        distance[i].append(opt_mod.addVar(name=f\"dist_{i,j}\", vtype=GRB.INTEGER, lb=0, ub=GRB.INFINITY))\\n        x[i].append([])\\n        for u in G.nodes:\\n            x[i][j].append([])\\n            for v in G.nodes:\\n                x[i][j][u].append(opt_mod.addVar(name=f\"x_{i,j}_{u,v}\", vtype=GRB.BINARY))\\n                #opt_mod.addConstr(x[i][j][u][v] <= e[u][v], name=\"c-dist<e\")\\n    opt_mod.addConstr(e[i][(i+1) % len(G.nodes)] == 1.0, name=\"c-ring\")\\n    opt_mod.addConstr(distance[i][j] >= e[i][j], name=\"c-dist\")\\n    opt_mod.addConstr(x[i][j][u][v] == (1 if (u,v) in SP_edgeList(G,i,j) else 0), name=\"c-distEdgeP\")\\n    opt_mod.addConstr(distance[i][j]== sum(a for b in x[i][j] for a in b))\\n\\n    opt_mod.addConstr(sum(e[i][j] for (i,j) in nodesPairList[i])\\n                          <= maxAllowedEperNode, name=\"c-logE\")\\nopt_mod.update()'"
      ]
     },
     "execution_count": 5,
     "metadata": {},
     "output_type": "execute_result"
    }
   ],
   "source": [
    "\"\"\"n = len(G.nodes)\n",
    "edges = gb.tuplelist(G.edges)\n",
    "nodesPairList = gb.tuplelist(complete_node_pair_list(G))\n",
    "\n",
    "maxAllowedEperNode = math.log(2**k,2) + 2\n",
    "allShortestPath = nx.shortest_path(G)\n",
    "\n",
    "# Edges/Links gb.var definition and constraints\n",
    "e = []\n",
    "distance = []\n",
    "x = []\n",
    "for i in G.nodes:\n",
    "    e.append([])\n",
    "    distance.append([])\n",
    "    x.append([])\n",
    "    for j in G.nodes:\n",
    "        e[i].append(opt_mod.addVar(name=f\"e_{i,j}\", vtype=GRB.BINARY))\n",
    "        distance[i].append(opt_mod.addVar(name=f\"dist_{i,j}\", vtype=GRB.INTEGER, lb=0, ub=GRB.INFINITY))\n",
    "        x[i].append([])\n",
    "        for u in G.nodes:\n",
    "            x[i][j].append([])\n",
    "            for v in G.nodes:\n",
    "                x[i][j][u].append(opt_mod.addVar(name=f\"x_{i,j}_{u,v}\", vtype=GRB.BINARY))\n",
    "                #opt_mod.addConstr(x[i][j][u][v] <= e[u][v], name=\"c-dist<e\")\n",
    "    opt_mod.addConstr(e[i][(i+1) % len(G.nodes)] == 1.0, name=\"c-ring\")\n",
    "    opt_mod.addConstr(distance[i][j] >= e[i][j], name=\"c-dist\")\n",
    "    opt_mod.addConstr(x[i][j][u][v] == (1 if (u,v) in SP_edgeList(G,i,j) else 0), name=\"c-distEdgeP\")\n",
    "    opt_mod.addConstr(distance[i][j]== sum(a for b in x[i][j] for a in b))\n",
    "\n",
    "    opt_mod.addConstr(sum(e[i][j] for (i,j) in nodesPairList[i])\n",
    "                          <= maxAllowedEperNode, name=\"c-logE\")\n",
    "opt_mod.update()\"\"\""
   ]
  },
  {
   "cell_type": "code",
   "execution_count": 6,
   "metadata": {},
   "outputs": [],
   "source": [
    "n = len(G.nodes)\n",
    "edges = gb.tuplelist(G.edges)\n",
    "nodesPairList = gb.tuplelist(complete_node_pair_list(G))\n",
    "allShortestPath = nx.shortest_path(G)\n",
    "\n",
    "# Edges/Links gb.var definition and constraints\n",
    "e = []\n",
    "for i in G.nodes:\n",
    "    e.append([])\n",
    "    for j in G.nodes:\n",
    "        e[i].append(opt_mod.addVar(name=f\"e_{i,j}\", vtype=GRB.BINARY))\n",
    "opt_mod.update() \n",
    "\n",
    "#distance, x\n",
    "dist = []\n",
    "x = []\n",
    "y = []\n",
    "flow = []\n",
    "for i in G.nodes:\n",
    "    dist.append([])\n",
    "    x.append([])\n",
    "    y.append([])\n",
    "    flow.append([])\n",
    "    for j in G.nodes:\n",
    "        dist[i].append(opt_mod.addVar(name=f\"dist_{i,j}\", vtype=GRB.INTEGER, lb=0, ub=GRB.INFINITY))\n",
    "        x[i].append([])\n",
    "        y[i].append([])\n",
    "        flow[i].append([])\n",
    "        for u in G.nodes:\n",
    "            x[i][j].append([])\n",
    "            y[i][j].append(opt_mod.addVar(name=f\"y_{i,j}_{u}\", vtype=GRB.CONTINUOUS, lb=0, ub=1))\n",
    "            flow[i][j].append(opt_mod.addVar(name=f\"flow_{i,j}_{u}\", vtype=GRB.CONTINUOUS, lb=-1, ub=1))\n",
    "            for v in G.nodes:\n",
    "                x[i][j][u].append(opt_mod.addVar(name=f\"x_{i,j}_{u,v}\", vtype=GRB.BINARY))\n",
    "opt_mod.update() "
   ]
  },
  {
   "cell_type": "markdown",
   "metadata": {},
   "source": [
    "## Adding constraints"
   ]
  },
  {
   "cell_type": "code",
   "execution_count": 11,
   "metadata": {},
   "outputs": [
    {
     "data": {
      "text/plain": [
       "'                if u != [i,j] and v != [i,j]:\\n                    opt_mod.addConstr(y[i][j][u]\\n                                      == (y[i][j][u] * (sum(flow[u][v]) - sum(flow[v][u]))), name=\"blue0\")\\n                    opt_mod.addConstr(0\\n                                      == (y[i][j][u] * (sum(flow[u][v]) - sum(flow[v][u]))), name=\"blue1\")'"
      ]
     },
     "execution_count": 11,
     "metadata": {},
     "output_type": "execute_result"
    }
   ],
   "source": [
    "# Adjacency Matrix (e) Constraints\n",
    "maxAllowedEperNode = math.log(2**k,2) + 2\n",
    "for i in G.nodes:\n",
    "    opt_mod.addConstr(e[i][(i+1) % len(G.nodes)] == 1, name=\"c-ring\")\n",
    "    for j in G.nodes:\n",
    "        opt_mod.addConstr(e[i][j] == e[j][i], name=\"c-undirected\")\n",
    "        opt_mod.addConstr(sum(e[i][j] for (i,j) in nodesPairList[i])\n",
    "                          <= maxAllowedEperNode, name=\"c-logE\")\n",
    "        \n",
    "        \n",
    "# Distance Matrix (dist) Constraints. dist[i][j]:= SP-length between i and j\n",
    "for i in G.nodes:\n",
    "    opt_mod.addConstr(dist[i][i] == 0, name=\"c-dist0\")\n",
    "    for j in G.nodes:\n",
    "        #opt_mod.addConstr(dist[i][j] == sum(a for b in x[i][j] for a in b), name=\"c-subpath0\")\n",
    "        if i != j:\n",
    "            opt_mod.addConstr(dist[i][j] >= e[i][j], name=\"c-dist1\")\n",
    "            for u in G.nodes:\n",
    "                opt_mod.addConstr(dist[i][j] <= dist[i][u] + dist[u][j] , name=\"c-dist2\")\n",
    "\n",
    "\n",
    "# Constraint A: Making sure only one path is in use in the subpath Matrix x\n",
    "for i in G.nodes:\n",
    "    for j in G.nodes:\n",
    "        for u in G.nodes:\n",
    "            opt_mod.addConstr(y[i][j][u] <= sum(x[i][j][u]), name=\"y0\")\n",
    "            opt_mod.addConstr(y[i][j][u] <= 1, name=\"y1\")\n",
    "            opt_mod.addConstr(y[i][j][u] >= 0, name=\"y2\")\n",
    "            opt_mod.addConstr(y[i][j][i] == 1, name=\"flowStart\")\n",
    "            opt_mod.addConstr(y[i][j][j] == -1, name=\"flowEnd\")        \n",
    "            for v in G.nodes:\n",
    "                opt_mod.addConstr(x[i][j][u][v] <= e[u][v], name=\"c-dist<e\") #1\n",
    "\"\"\"                if u != [i,j] and v != [i,j]:\n",
    "                    opt_mod.addConstr(y[i][j][u]\n",
    "                                      == (y[i][j][u] * (sum(flow[u][v]) - sum(flow[v][u]))), name=\"blue0\")\n",
    "                    opt_mod.addConstr(0\n",
    "                                      == (y[i][j][u] * (sum(flow[u][v]) - sum(flow[v][u]))), name=\"blue1\")\"\"\""
   ]
  },
  {
   "cell_type": "code",
   "execution_count": 8,
   "metadata": {},
   "outputs": [
    {
     "name": "stdout",
     "output_type": "stream",
     "text": [
      "Gurobi Optimizer version 9.5.1 build v9.5.1rc2 (linux64)\n",
      "Thread count: 6 physical cores, 12 logical processors, using up to 12 threads\n",
      "Optimize a model with 7424 rows, 5248 columns and 20536 nonzeros\n",
      "Model fingerprint: 0xfb13d550\n",
      "Variable types: 1024 continuous, 4224 integer (4160 binary)\n",
      "Coefficient statistics:\n",
      "  Matrix range     [1e+00, 1e+00]\n",
      "  Objective range  [2e-02, 2e-02]\n",
      "  Bounds range     [1e+00, 1e+00]\n",
      "  RHS range        [1e+00, 5e+00]\n",
      "Presolve removed 1152 rows and 512 columns\n",
      "Presolve time: 0.00s\n",
      "\n",
      "Explored 0 nodes (0 simplex iterations) in 0.01 seconds (0.00 work units)\n",
      "Thread count was 1 (of 12 available processors)\n",
      "\n",
      "Solution count 0\n",
      "\n",
      "Model is infeasible\n",
      "Best objective -, best bound -, gap -\n"
     ]
    }
   ],
   "source": [
    "#print(len(x[0,1,x,y]))\n",
    "for a in nodesPairList:\n",
    "    opt_mod.setObjective(sum([dist[i][j]*D[i][j] for (i,j) in a]), GRB.MINIMIZE)\n",
    "opt_mod.update()\n",
    "#opt_mod.display()\n",
    "opt_mod.optimize()"
   ]
  },
  {
   "cell_type": "code",
   "execution_count": 9,
   "metadata": {},
   "outputs": [
    {
     "name": "stdout",
     "output_type": "stream",
     "text": [
      "3\n"
     ]
    }
   ],
   "source": [
    "if opt_mod.status == GRB.Status.OPTIMAL:\n",
    "    print('Obj Function:', opt_mod.objVal)\n",
    "    for v in opt_mod.getVars():\n",
    "        print(v.varName, v.x)\n",
    "# Another way to print the variable\n",
    "    print(\"Optimal Solution:\")\n",
    "    #print(x.varName, x.x)\n",
    "    #print(y.varName, y.x)        \n",
    "else:\n",
    "    print(opt_mod.status)"
   ]
  },
  {
   "cell_type": "markdown",
   "metadata": {},
   "source": [
    "# Putting it back into a graph"
   ]
  },
  {
   "cell_type": "code",
   "execution_count": 10,
   "metadata": {},
   "outputs": [
    {
     "ename": "AttributeError",
     "evalue": "Unable to retrieve attribute 'X'",
     "output_type": "error",
     "traceback": [
      "\u001b[0;31m---------------------------------------------------------------------------\u001b[0m",
      "\u001b[0;31mAttributeError\u001b[0m                            Traceback (most recent call last)",
      "Input \u001b[0;32mIn [10]\u001b[0m, in \u001b[0;36m<cell line: 5>\u001b[0;34m()\u001b[0m\n\u001b[1;32m      5\u001b[0m \u001b[38;5;28;01mfor\u001b[39;00m i \u001b[38;5;129;01min\u001b[39;00m G\u001b[38;5;241m.\u001b[39mnodes:\n\u001b[1;32m      6\u001b[0m     \u001b[38;5;28;01mfor\u001b[39;00m j \u001b[38;5;129;01min\u001b[39;00m \u001b[38;5;28mrange\u001b[39m(i,\u001b[38;5;28mlen\u001b[39m(G\u001b[38;5;241m.\u001b[39mnodes)):\n\u001b[0;32m----> 7\u001b[0m         \u001b[38;5;28;01mif\u001b[39;00m \u001b[43me\u001b[49m\u001b[43m[\u001b[49m\u001b[43mi\u001b[49m\u001b[43m]\u001b[49m\u001b[43m[\u001b[49m\u001b[43mj\u001b[49m\u001b[43m]\u001b[49m\u001b[38;5;241;43m.\u001b[39;49m\u001b[43mX\u001b[49m \u001b[38;5;241m==\u001b[39m \u001b[38;5;241m1.0\u001b[39m:\n\u001b[1;32m      8\u001b[0m             G\u001b[38;5;241m.\u001b[39madd_edge(i,j)\n",
      "File \u001b[0;32msrc/gurobipy/var.pxi:125\u001b[0m, in \u001b[0;36mgurobipy.Var.__getattr__\u001b[0;34m()\u001b[0m\n",
      "File \u001b[0;32msrc/gurobipy/var.pxi:153\u001b[0m, in \u001b[0;36mgurobipy.Var.getAttr\u001b[0;34m()\u001b[0m\n",
      "File \u001b[0;32msrc/gurobipy/attrutil.pxi:100\u001b[0m, in \u001b[0;36mgurobipy.__getattr\u001b[0;34m()\u001b[0m\n",
      "\u001b[0;31mAttributeError\u001b[0m: Unable to retrieve attribute 'X'"
     ]
    }
   ],
   "source": [
    "G_sol = nx.Graph()\n",
    "for i in range(n): \n",
    "    G.add_node(i)\n",
    "\n",
    "for i in G.nodes:\n",
    "    for j in range(i,len(G.nodes)):\n",
    "        if e[i][j].X == 1.0:\n",
    "            G.add_edge(i,j)\n"
   ]
  },
  {
   "cell_type": "code",
   "execution_count": null,
   "metadata": {},
   "outputs": [],
   "source": [
    "pos = nx.circular_layout(G)\n",
    "nx.draw_networkx(G,pos=pos,with_labels=True)"
   ]
  },
  {
   "cell_type": "code",
   "execution_count": null,
   "metadata": {},
   "outputs": [],
   "source": [
    "print(maxAllowedEperNode)\n",
    "print(calc_cost(G_sol,D))"
   ]
  },
  {
   "cell_type": "code",
   "execution_count": null,
   "metadata": {},
   "outputs": [],
   "source": []
  },
  {
   "cell_type": "code",
   "execution_count": null,
   "metadata": {},
   "outputs": [],
   "source": []
  },
  {
   "cell_type": "code",
   "execution_count": null,
   "metadata": {},
   "outputs": [],
   "source": []
  },
  {
   "cell_type": "code",
   "execution_count": null,
   "metadata": {},
   "outputs": [],
   "source": []
  },
  {
   "cell_type": "code",
   "execution_count": null,
   "metadata": {},
   "outputs": [],
   "source": []
  },
  {
   "cell_type": "code",
   "execution_count": null,
   "metadata": {},
   "outputs": [],
   "source": []
  },
  {
   "cell_type": "code",
   "execution_count": null,
   "metadata": {},
   "outputs": [],
   "source": []
  },
  {
   "cell_type": "code",
   "execution_count": null,
   "metadata": {},
   "outputs": [],
   "source": []
  },
  {
   "cell_type": "code",
   "execution_count": null,
   "metadata": {},
   "outputs": [],
   "source": []
  },
  {
   "cell_type": "code",
   "execution_count": null,
   "metadata": {},
   "outputs": [],
   "source": []
  }
 ],
 "metadata": {
  "interpreter": {
   "hash": "916dbcbb3f70747c44a77c7bcd40155683ae19c65e1c03b4aa3499c5328201f1"
  },
  "kernelspec": {
   "display_name": "Python 3 (ipykernel)",
   "language": "python",
   "name": "python3"
  },
  "language_info": {
   "codemirror_mode": {
    "name": "ipython",
    "version": 3
   },
   "file_extension": ".py",
   "mimetype": "text/x-python",
   "name": "python",
   "nbconvert_exporter": "python",
   "pygments_lexer": "ipython3",
   "version": "3.9.12"
  }
 },
 "nbformat": 4,
 "nbformat_minor": 2
}

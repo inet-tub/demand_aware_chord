{
 "cells": [
  {
   "cell_type": "code",
   "execution_count": 3,
   "id": "a0afb43c",
   "metadata": {},
   "outputs": [],
   "source": [
    "import networkx as nx\n",
    "import math\n",
    "import numpy as np\n",
    "#https://networkx.org/documentation/stable/tutorial.html"
   ]
  },
  {
   "cell_type": "code",
   "execution_count": 4,
   "id": "e66c4305",
   "metadata": {},
   "outputs": [],
   "source": [
    "from functions_library import * \n",
    "\n",
    "def mySolve(G):\n",
    "    n = len(G.nodes)\n",
    "    k = math.log(n,10)\n",
    "    for i in range(n):\n",
    "        distances = nx.floyd_warshall(G, weight='weight')\n",
    "        farthest_node = int(max(distances[i], key=distances[i].get))\n",
    "        if farthest_node > k:\n",
    "            G.add_edge(i,farthest_node)\n",
    "    pos = nx.circular_layout(G)\n",
    "    nx.draw(G,pos=pos)\n",
    "    return(G)\n",
    "    #subG = G.subgraph(range(v,farthest_node+1))"
   ]
  },
  {
   "cell_type": "markdown",
   "id": "1abed7b0",
   "metadata": {},
   "source": [
    "# Binary Search"
   ]
  },
  {
   "cell_type": "code",
   "execution_count": 95,
   "id": "d08acb3a",
   "metadata": {},
   "outputs": [],
   "source": [
    "# demand-aware binary search\n",
    "def construct_binary_search(G):\n",
    "    \"\"\"constructs edges to enable binary search\n",
    "    \n",
    "    Args: \n",
    "        G: Graph in Ring (or any structure)\n",
    "        \n",
    "    Returns:\n",
    "        G: Graph, with edges for binary search\n",
    "    \"\"\"\n",
    "    for i in range(len(G.nodes)):\n",
    "        binaryGUID = list(intToBin(i,len(G.nodes)))\n",
    "        for j in range(1,len(binaryGUID)+1):\n",
    "            binaryGUID = list(intToBin(i,len(G.nodes)))\n",
    "            binaryGUID[-j] = str((int(binaryGUID[-j]) + 1) % 2)\n",
    "            peer = binToInt(binaryGUID,len(G.nodes))\n",
    "            G.add_edge(i,peer)\n",
    "    return G\n",
    "\n",
    "\n",
    "def construct_demand_aware_binary_search2(G,demandMatrix):\n",
    "    \"\"\"Constructs edges in a ring graph, to enable demand aware binary search\"\"\"\n",
    "    copyDemandMatrix = demandMatrix\n",
    "    \n",
    "    maxEdge = np.argmax(copyDemandMatrix)\n",
    "    #convert index to position\n",
    "    row = math.floor(maxEdge/len(copyDemandMatrix))\n",
    "    col = maxEdge % len(copyDemandMatrix)\n",
    "    \n",
    "    # If demand the same for all, do binary search\n",
    "    if copyDemandMatrix[row][col] == round(1/(len(copyDemandMatrix)*(len(copyDemandMatrix)-1)),8):\n",
    "        construct_binary_search(G)\n",
    "        return G\n",
    "    \n",
    "    listOfNodes = list(G.nodes) \n",
    "    k = math.floor(math.log(len(listOfNodes),2))\n",
    "    \n",
    "    # Rearrange binary search to upgrade graph\n",
    "    for i in range(len(copyDemandMatrix)):\n",
    "        #copyDemandMatrix[i][1:len(copyDemandMatrix)-1]\n",
    "        lastEdge = (i+math.ceil(len(copyDemandMatrix)/2)-1) % len(copyDemandMatrix)\n",
    "        G.add_edge(i,lastEdge)\n",
    "        \n",
    "        frontNode = i\n",
    "        backNode = len(G.nodes)-1 + (i % len(G.nodes)) +1\n",
    "        for j in range(2,k):\n",
    "            costFront = calc_totalTrafficCost_single_node(i,listOfNodes[frontNode:lastEdge+1],demandMatrix,G)\n",
    "            costBack = calc_totalTrafficCost_single_node(i,listOfNodes[lastEdge:backNode],demandMatrix,G)\n",
    "            if costFront > costBack:\n",
    "                backNode = lastEdge\n",
    "                lastEdge = lastEdge-math.ceil(len(listOfNodes)/(2**j))\n",
    "                G.add_edge(i,lastEdge)\n",
    "            else:\n",
    "                frontNode = lastEdge\n",
    "                lastEdge = lastEdge+math.floor(len(listOfNodes)/(2**j))\n",
    "                \n",
    "                G.add_edge(i,lastEdge)\n",
    "    return G\n",
    "\n",
    "\n",
    "# Demand Aware BS\n",
    "def helper(G,D,v,nodesfrom_v,counter,lastAddedNode):\n",
    "    if (len(G.edges(v)) == math.log(len(G.nodes),2)+2):\n",
    "        return G\n",
    "    if counter >= math.log(len(G.nodes),2):\n",
    "        return G\n",
    "    temp = lastAddedNode\n",
    "    nodes = list(G.nodes)\n",
    "    demandfrom_v = D\n",
    "    if counter == 0:\n",
    "        nodesfrom_v = nodes[(v+1 % (len(nodes)-1)):]\n",
    "        nodesfrom_v += nodes[:(v+1 % (len(nodes)-1))]\n",
    "        demandfrom_v = list(D[v][(v+1 % (len(nodes)-1)):])\n",
    "        demandfrom_v += list(D[v][:(v+1 % (len(nodes)-1))])\n",
    "    \n",
    "    \n",
    "    temp_demand = 0\n",
    "    for u in nodesfrom_v:\n",
    "        if u != v and (len(G.edges(u)) != (math.log(len(G.nodes),2)+2)):\n",
    "            if temp_demand >= round(sum(demandfrom_v[lastAddedNode:])/2,8):\n",
    "                temp = nodesfrom_v.index(u)\n",
    "                G.add_edge(v,u)\n",
    "                break\n",
    "            else:\n",
    "                temp = nodesfrom_v.index(u)\n",
    "                temp_demand += demandfrom_v[temp]\n",
    "    counter += 1\n",
    "    \n",
    "    #pick larger half\n",
    "    if len(demandfrom_v[temp:]) > len(demandfrom_v[:temp]):\n",
    "        helper(G,demandfrom_v[temp:],v,nodesfrom_v[temp:],counter,temp)\n",
    "    else:\n",
    "        helper(G,demandfrom_v[:temp],v,nodesfrom_v[:temp],counter,temp)\n",
    "    \n",
    "def construct_demand_aware_binary_search(G,D):\n",
    "    for v in G.nodes:\n",
    "        helper(G,D,v,list(G.nodes),0,0)\n",
    "    return G"
   ]
  },
  {
   "cell_type": "markdown",
   "id": "a0b085ab",
   "metadata": {},
   "source": [
    "# Testing"
   ]
  },
  {
   "cell_type": "code",
   "execution_count": 114,
   "id": "bfbcadc6",
   "metadata": {},
   "outputs": [],
   "source": [
    "# Init size for Ring, 2^k\n",
    "k = 6\n",
    "\n",
    "\n",
    "#print(demandMatrix)"
   ]
  },
  {
   "cell_type": "code",
   "execution_count": 115,
   "id": "684bd035",
   "metadata": {},
   "outputs": [
    {
     "data": {
      "image/png": "[encoded data removed]",
      "text/plain": [
       "<Figure size 432x288 with 1 Axes>"
      ]
     },
     "metadata": {},
     "output_type": "display_data"
    }
   ],
   "source": [
    "#D[0][4] = 1\n",
    "#D[0][8] = 1\n",
    "#D_bs[2][8] = 1\n",
    "\n",
    "G = init_ring(2**k)\n",
    "D_bs = init_uniformDemand_matrix(G)\n",
    "G_bs = construct_binary_search(G)\n",
    "\n",
    "\n",
    "G = init_ring(2**k)\n",
    "D = init_uniformDemand_matrix_symmetric(G)\n",
    "G_da_bs = construct_demand_aware_binary_search(G,D)\n",
    "#pos = nx.circular_layout(G)\n",
    "#nx.draw_networkx(G,pos=pos,with_labels=True)"
   ]
  },
  {
   "cell_type": "code",
   "execution_count": 116,
   "id": "ae397715",
   "metadata": {},
   "outputs": [
    {
     "name": "stdout",
     "output_type": "stream",
     "text": [
      "[(0, 1), (0, 63), (0, 2), (0, 4), (0, 8), (0, 16), (0, 32)]\n",
      "None\n",
      "[(0, 1), (0, 63), (0, 33), (0, 18), (0, 10), (0, 31), (0, 46), (0, 53)]\n",
      "None\n",
      "2.6359034200000466\n",
      "2.3720154600000356\n"
     ]
    }
   ],
   "source": [
    "print(print(G_bs.edges(0)))\n",
    "print(print(G_da_bs.edges(0)))\n",
    "print(calc_cost(G_bs,D_bs))\n",
    "print(calc_cost(G_da_bs,D_bs))"
   ]
  },
  {
   "cell_type": "markdown",
   "id": "50bcd550",
   "metadata": {},
   "source": [
    "# Plotting"
   ]
  },
  {
   "cell_type": "code",
   "execution_count": 65,
   "id": "7caf6ab8",
   "metadata": {},
   "outputs": [
    {
     "name": "stdout",
     "output_type": "stream",
     "text": [
      "1\n",
      "2\n",
      "3\n",
      "4\n",
      "5\n",
      "6\n",
      "7\n",
      "8\n",
      "9\n",
      "10\n",
      "11\n"
     ]
    },
    {
     "data": {
      "image/png": "[encoded data removed]",
      "text/plain": [
       "<Figure size 432x288 with 1 Axes>"
      ]
     },
     "metadata": {},
     "output_type": "display_data"
    }
   ],
   "source": [
    "binarySearchOutput = []\n",
    "demandAwarebinarySearchOutput = []\n",
    "for k in range(1,12):\n",
    "    G = init_ring(2**k)\n",
    "    print(k)\n",
    "    D_bs = init_uniformDemand_matrix(G)\n",
    "    D_dabs = init_uniformDemand_matrix_symmetric(G)\n",
    "    G_bs = construct_binary_search(G)\n",
    "    G = init_ring(2**k)\n",
    "    G_da_bs = construct_demand_aware_binary_search(G,D_dabs)\n",
    "    binarySearchOutput.append(calc_cost(G_bs,D_bs))\n",
    "    demandAwarebinarySearchOutput.append(calc_cost(G_da_bs,D_bs))"
   ]
  },
  {
   "cell_type": "code",
   "execution_count": null,
   "id": "9b5c6231",
   "metadata": {},
   "outputs": [],
   "source": []
  },
  {
   "cell_type": "code",
   "execution_count": null,
   "id": "dc44e6ef",
   "metadata": {},
   "outputs": [],
   "source": []
  },
  {
   "cell_type": "code",
   "execution_count": 6,
   "id": "6c5a39f9",
   "metadata": {},
   "outputs": [
    {
     "ename": "NameError",
     "evalue": "name 'i' is not defined",
     "output_type": "error",
     "traceback": [
      "\u001b[0;31m---------------------------------------------------------------------------\u001b[0m",
      "\u001b[0;31mNameError\u001b[0m                                 Traceback (most recent call last)",
      "Input \u001b[0;32mIn [6]\u001b[0m, in \u001b[0;36m<cell line: 1>\u001b[0;34m()\u001b[0m\n\u001b[0;32m----> 1\u001b[0m \u001b[38;5;28mprint\u001b[39m(calc_totalTrafficCost_single_node(\u001b[43mi\u001b[49m,listOfNodes[\u001b[38;5;241m1\u001b[39m:\u001b[38;5;241m10\u001b[39m],demandMatrix,G))\n",
      "\u001b[0;31mNameError\u001b[0m: name 'i' is not defined"
     ]
    }
   ],
   "source": [
    "#print(calc_totalTrafficCost_single_node(i,listOfNodes[1:10],demandMatrix,G))"
   ]
  },
  {
   "cell_type": "code",
   "execution_count": null,
   "id": "c6d49498",
   "metadata": {},
   "outputs": [],
   "source": [
    "demandMatrix[0][1] = 1\n",
    "print(construct_binary_search(G))\n",
    "print(~-1)"
   ]
  },
  {
   "cell_type": "code",
   "execution_count": null,
   "id": "ba8e3594",
   "metadata": {},
   "outputs": [],
   "source": [
    "#Testing\n",
    "print(G.number_of_edges(),2**(k+1))\n",
    "\n",
    "#Test if every node can reach every other in max. log(n) hops\n",
    "distances = nx.floyd_warshall(G, weight='weight')\n",
    "for i in range(2**k):\n",
    "    maxKey = max(distances[i], key=distances[i].get)\n",
    "    tempMax = distances[i][maxKey]\n",
    "print(k >= tempMax,tempMax)\n"
   ]
  },
  {
   "cell_type": "code",
   "execution_count": null,
   "id": "ed7f8222",
   "metadata": {},
   "outputs": [],
   "source": []
  },
  {
   "cell_type": "markdown",
   "id": "ce96df8e",
   "metadata": {},
   "source": [
    "# Proof"
   ]
  },
  {
   "cell_type": "code",
   "execution_count": null,
   "id": "5aa0b93f",
   "metadata": {},
   "outputs": [],
   "source": [
    "def init_matrix(k):\n",
    "    n = 2**k\n",
    "    matr_graph = []\n",
    "    \n",
    "    temp = []\n",
    "    temp.append(bin(1),bin(n))\n",
    "    temp.append(['0b' + ''])\n",
    "    matr_graph.append((bin(0),[bin(1),bin(n)]))\n",
    "    \n",
    "    \n",
    "    for i in range(1,n-1):\n",
    "        temp = []\n",
    "        temp.append(bin(i))\n",
    "        temp.append(bin(i-1))\n",
    "        temp.append(bin(i+1))\n",
    "        matr_graph.append((temp[0],temp[1:]))\n",
    "    print(matr_graph)"
   ]
  },
  {
   "cell_type": "code",
   "execution_count": null,
   "id": "c253e305",
   "metadata": {},
   "outputs": [],
   "source": [
    "init_matrix(3)"
   ]
  },
  {
   "cell_type": "code",
   "execution_count": null,
   "id": "c718cc25",
   "metadata": {},
   "outputs": [],
   "source": [
    "bin(7)"
   ]
  },
  {
   "cell_type": "code",
   "execution_count": null,
   "id": "ec2b5feb",
   "metadata": {},
   "outputs": [],
   "source": []
  }
 ],
 "metadata": {
  "kernelspec": {
   "display_name": "Python 3 (ipykernel)",
   "language": "python",
   "name": "python3"
  },
  "language_info": {
   "codemirror_mode": {
    "name": "ipython",
    "version": 3
   },
   "file_extension": ".py",
   "mimetype": "text/x-python",
   "name": "python",
   "nbconvert_exporter": "python",
   "pygments_lexer": "ipython3",
   "version": "3.9.12"
  }
 },
 "nbformat": 4,
 "nbformat_minor": 5
}
